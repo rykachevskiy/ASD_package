{
 "cells": [
  {
   "cell_type": "code",
   "execution_count": 2,
   "metadata": {
    "collapsed": true
   },
   "outputs": [],
   "source": [
    "from lib.reader import read_alleles_to_num\n",
    "import numpy as np\n",
    "import os\n",
    "\n",
    "from sklearn.model_selection import LeaveOneOut\n",
    "\n",
    "import argparse\n",
    "\n",
    "from lib.config import *\n",
    "import lib.row_cheker as rch\n",
    "\n",
    "import time"
   ]
  },
  {
   "cell_type": "code",
   "execution_count": 62,
   "metadata": {
    "collapsed": true
   },
   "outputs": [],
   "source": [
    "import multiprocessing"
   ]
  },
  {
   "cell_type": "code",
   "execution_count": 21,
   "metadata": {
    "collapsed": true
   },
   "outputs": [],
   "source": [
    "from importlib import reload"
   ]
  },
  {
   "cell_type": "code",
   "execution_count": 72,
   "metadata": {},
   "outputs": [],
   "source": [
    "rch = reload(rch)"
   ]
  },
  {
   "cell_type": "code",
   "execution_count": 9,
   "metadata": {},
   "outputs": [],
   "source": [
    "np.random.seed(239)\n",
    "\n",
    "parser = argparse.ArgumentParser()\n",
    "parser.add_argument('-i', type=str, dest='input_table_path')\n",
    "parser.add_argument('-o', type=str, dest='output_table_path')\n",
    "parser.add_argument('-n', type=int, dest='rows_number', default=500)\n",
    "args = parser.parse_args([\"-i\", \"../data_as_npy.npy\", \"-o\", \"../res\"])"
   ]
  },
  {
   "cell_type": "code",
   "execution_count": 10,
   "metadata": {},
   "outputs": [
    {
     "data": {
      "text/plain": [
       "Namespace(input_table_path='../data_as_npy.npy', output_table_path='../res', rows_number=500)"
      ]
     },
     "execution_count": 10,
     "metadata": {},
     "output_type": "execute_result"
    }
   ],
   "source": [
    "args"
   ]
  },
  {
   "cell_type": "code",
   "execution_count": 11,
   "metadata": {},
   "outputs": [
    {
     "name": "stdout",
     "output_type": "stream",
     "text": [
      "(428, 4382202)\n",
      "Starting on original table...\n"
     ]
    }
   ],
   "source": [
    "table = np.load(args.input_table_path)\n",
    "print(table.shape)\n",
    "case_control = np.array([0] * 407 + [1] * 21)\n",
    "\n",
    "print(\"Starting on original table...\")\n",
    "table_2x3 = rch.check_initial_table(table, case_control.astype(bool))\n",
    "\n",
    "assert all(table_2x3.sum(1).sum(1) == 428)"
   ]
  },
  {
   "cell_type": "code",
   "execution_count": 12,
   "metadata": {
    "collapsed": true
   },
   "outputs": [],
   "source": [
    "np.save(\"../table_2x3\", table_2x3)"
   ]
  },
  {
   "cell_type": "code",
   "execution_count": 13,
   "metadata": {},
   "outputs": [
    {
     "data": {
      "text/plain": [
       "(4382202, 2, 3)"
      ]
     },
     "execution_count": 13,
     "metadata": {},
     "output_type": "execute_result"
    }
   ],
   "source": [
    "table_2x3.shape"
   ]
  },
  {
   "cell_type": "code",
   "execution_count": 17,
   "metadata": {},
   "outputs": [],
   "source": [
    "table = table.astype(int)"
   ]
  },
  {
   "cell_type": "code",
   "execution_count": null,
   "metadata": {
    "collapsed": true
   },
   "outputs": [],
   "source": [
    "loo = LeaveOneOut()\n",
    "\n",
    "target_rows_list = []\n",
    "target_pvals_list = []\n",
    "\n",
    "chi2_hash = dict()"
   ]
  },
  {
   "cell_type": "code",
   "execution_count": 99,
   "metadata": {
    "collapsed": true
   },
   "outputs": [],
   "source": [
    "def do_all_for_single_split(index, table_2x3, case_control, table, chi2_hash, row_number):\n",
    "    train_index, test_index = index[0], index[1]\n",
    "    beg = time.time()\n",
    "    rows, pvals = rch.check_loo_table(table_2x3,\n",
    "                                      case_control[test_index],\n",
    "                                      table[test_index].flatten(),\n",
    "                                      chi2_hash,\n",
    "                                      False,                                  \n",
    "                                      cut=args.rows_number)\n",
    "    end = time.time()\n",
    "    #print(\"Done with index {} in {} seconds\".format(test_index, end - beg))\n",
    "    \n",
    "    return rows, pvals, end - beg"
   ]
  },
  {
   "cell_type": "code",
   "execution_count": 59,
   "metadata": {},
   "outputs": [
    {
     "name": "stderr",
     "output_type": "stream",
     "text": [
      "100%|██████████| 4382202/4382202 [15:35<00:00, 4685.97it/s]\n",
      "  0%|          | 315/4382202 [00:00<23:12, 3146.18it/s]"
     ]
    },
    {
     "name": "stdout",
     "output_type": "stream",
     "text": [
      "Done with index [3] in 935.8729054927826 seconds\n"
     ]
    },
    {
     "name": "stderr",
     "output_type": "stream",
     "text": [
      "100%|██████████| 4382202/4382202 [16:11<00:00, 4509.68it/s]\n",
      "  0%|          | 318/4382202 [00:00<23:02, 3169.33it/s]"
     ]
    },
    {
     "name": "stdout",
     "output_type": "stream",
     "text": [
      "Done with index [4] in 972.4523255825043 seconds\n"
     ]
    },
    {
     "name": "stderr",
     "output_type": "stream",
     "text": [
      "100%|██████████| 4382202/4382202 [15:41<00:00, 4653.02it/s]\n",
      "  0%|          | 311/4382202 [00:00<23:31, 3104.87it/s]"
     ]
    },
    {
     "name": "stdout",
     "output_type": "stream",
     "text": [
      "Done with index [5] in 942.4824831485748 seconds\n"
     ]
    },
    {
     "name": "stderr",
     "output_type": "stream",
     "text": [
      "100%|██████████| 4382202/4382202 [15:26<00:00, 4731.18it/s]\n",
      "  0%|          | 688/4382202 [00:00<10:37, 6874.01it/s]"
     ]
    },
    {
     "name": "stdout",
     "output_type": "stream",
     "text": [
      "Done with index [6] in 926.9220147132874 seconds\n"
     ]
    },
    {
     "name": "stderr",
     "output_type": "stream",
     "text": [
      "100%|██████████| 4382202/4382202 [15:19<00:00, 4763.82it/s]\n",
      "  0%|          | 550/4382202 [00:00<13:17, 5496.24it/s]"
     ]
    },
    {
     "name": "stdout",
     "output_type": "stream",
     "text": [
      "Done with index [7] in 920.5783610343933 seconds\n"
     ]
    },
    {
     "name": "stderr",
     "output_type": "stream",
     "text": [
      "100%|██████████| 4382202/4382202 [15:01<00:00, 4861.44it/s]\n",
      "  0%|          | 308/4382202 [00:00<23:43, 3078.76it/s]"
     ]
    },
    {
     "name": "stdout",
     "output_type": "stream",
     "text": [
      "Done with index [8] in 902.1052443981171 seconds\n"
     ]
    },
    {
     "name": "stderr",
     "output_type": "stream",
     "text": [
      "100%|██████████| 4382202/4382202 [15:09<00:00, 4816.30it/s]\n"
     ]
    },
    {
     "name": "stdout",
     "output_type": "stream",
     "text": [
      "Done with index [9] in 910.5523960590363 seconds\n"
     ]
    }
   ],
   "source": [
    "for (train_index, test_index) in train_test_indexes[3:10]:\n",
    "    beg = time.time()\n",
    "    rows, pvals = rch.check_loo_table(table_2x3,\n",
    "                                      case_control[test_index],\n",
    "                                      table[test_index].flatten(),\n",
    "                                      chi2_hash,\n",
    "                                      cut=args.rows_number)\n",
    "    \n",
    "    \n",
    "    \n",
    "    target_rows_list.append(rows)\n",
    "    target_pvals_list.append(pvals)\n",
    "    end = time.time()\n",
    "    print(\"Done with index {} in {} seconds\".format(test_index, end - beg))\n",
    "    \n",
    "    np.save(\"../1_stage_results/rows/rows_\" + str(test_index[0]), rows)\n",
    "    np.save(\"../1_stage_results/pvals/pvals_\" + str(test_index[0]), pvals)"
   ]
  },
  {
   "cell_type": "code",
   "execution_count": null,
   "metadata": {
    "scrolled": true
   },
   "outputs": [],
   "source": [
    "target_rows = np.concatenate([x.reshape(1,-1) for x in target_rows_list], 0)\n",
    "target_pvals = np.concatenate([x.reshape(1,-1) for x in target_pvals_list], 0)\n",
    "\n",
    "print(target_rows.shape)\n",
    "\n",
    "np.save(args.output_table_path, target_rows)\n",
    "np.save(args.output_table_path+\"_pvals\", target_pvals)"
   ]
  },
  {
   "cell_type": "code",
   "execution_count": 27,
   "metadata": {
    "collapsed": true
   },
   "outputs": [],
   "source": [
    "import pickle"
   ]
  },
  {
   "cell_type": "code",
   "execution_count": 60,
   "metadata": {},
   "outputs": [
    {
     "data": {
      "text/plain": [
       "319738"
      ]
     },
     "execution_count": 60,
     "metadata": {},
     "output_type": "execute_result"
    }
   ],
   "source": [
    "len(chi2_hash)"
   ]
  },
  {
   "cell_type": "code",
   "execution_count": 44,
   "metadata": {},
   "outputs": [
    {
     "data": {
      "text/plain": [
       "254387"
      ]
     },
     "execution_count": 44,
     "metadata": {},
     "output_type": "execute_result"
    }
   ],
   "source": [
    "len(chi2_hash)"
   ]
  },
  {
   "cell_type": "code",
   "execution_count": null,
   "metadata": {
    "collapsed": true
   },
   "outputs": [],
   "source": []
  },
  {
   "cell_type": "code",
   "execution_count": 61,
   "metadata": {},
   "outputs": [],
   "source": [
    "pickle.dump(chi2_hash, open(\"../1_stage_results/chi2_hash_9\", 'wb'))"
   ]
  },
  {
   "cell_type": "code",
   "execution_count": null,
   "metadata": {
    "collapsed": true
   },
   "outputs": [],
   "source": []
  },
  {
   "cell_type": "code",
   "execution_count": 53,
   "metadata": {},
   "outputs": [],
   "source": [
    "np.save(\"../1_stage_results/rows/rows_1\", target_rows_list[1])"
   ]
  },
  {
   "cell_type": "code",
   "execution_count": 54,
   "metadata": {
    "collapsed": true
   },
   "outputs": [],
   "source": [
    "np.save(\"../1_stage_results/pvals/pvals_1\", target_pvals_list[1])"
   ]
  },
  {
   "cell_type": "code",
   "execution_count": 36,
   "metadata": {
    "collapsed": true
   },
   "outputs": [],
   "source": [
    "train_test_indexes = [[x,y] for x,y in loo.split(table)]"
   ]
  },
  {
   "cell_type": "code",
   "execution_count": 66,
   "metadata": {
    "scrolled": true
   },
   "outputs": [
    {
     "data": {
      "text/plain": [
       "array([1376664, 1270728,  992761, 2390826, 2273628, 3712756, 3592121,\n",
       "       1874146, 2924633, 3592133, 2924632, 2924627, 4359920, 1470867,\n",
       "       1665981, 2404856, 2404861, 4269047,   67442,  479780])"
      ]
     },
     "execution_count": 66,
     "metadata": {},
     "output_type": "execute_result"
    }
   ],
   "source": [
    "target_rows_list[0][:20]"
   ]
  },
  {
   "cell_type": "code",
   "execution_count": 67,
   "metadata": {},
   "outputs": [
    {
     "data": {
      "text/plain": [
       "array([1376664, 1270728,  992761, 2390826, 2273628, 3712756, 3592121,\n",
       "       1874146, 3592133, 2924633, 2924632, 2924627, 4359920, 1470867,\n",
       "       1665981, 2404856, 2404861, 4269047,   67442,  650711])"
      ]
     },
     "execution_count": 67,
     "metadata": {},
     "output_type": "execute_result"
    }
   ],
   "source": [
    "target_rows_list[3][:20]"
   ]
  },
  {
   "cell_type": "code",
   "execution_count": 68,
   "metadata": {},
   "outputs": [
    {
     "data": {
      "text/plain": [
       "array([  3.89122540e-21,   9.29860702e-18,   4.74927819e-17,\n",
       "         1.71168970e-15,   2.27848394e-14,   1.25258874e-13,\n",
       "         1.35620811e-13,   1.87686407e-13,   1.91116997e-13,\n",
       "         1.91313799e-13,   1.96361828e-13,   1.97937368e-13,\n",
       "         2.06683279e-13,   1.30862014e-12,   2.46600718e-12,\n",
       "         1.07457615e-11,   1.07457615e-11,   2.74591180e-11,\n",
       "         3.07866232e-11,   7.28638373e-11])"
      ]
     },
     "execution_count": 68,
     "metadata": {},
     "output_type": "execute_result"
    }
   ],
   "source": [
    "target_pvals_list[0][:20]"
   ]
  },
  {
   "cell_type": "code",
   "execution_count": 69,
   "metadata": {},
   "outputs": [
    {
     "data": {
      "text/plain": [
       "array([  3.89122540e-21,   9.44807769e-18,   5.08217422e-17,\n",
       "         1.71168970e-15,   2.27848394e-14,   1.25258874e-13,\n",
       "         1.35620811e-13,   1.87686407e-13,   1.89215302e-13,\n",
       "         1.92945486e-13,   1.97937368e-13,   1.99415799e-13,\n",
       "         2.06230630e-13,   1.23771787e-12,   2.46600718e-12,\n",
       "         1.07457615e-11,   1.07457615e-11,   2.74591180e-11,\n",
       "         3.07866232e-11,   6.68154814e-11])"
      ]
     },
     "execution_count": 69,
     "metadata": {},
     "output_type": "execute_result"
    }
   ],
   "source": [
    "target_pvals_list[3][:20]"
   ]
  },
  {
   "cell_type": "code",
   "execution_count": null,
   "metadata": {
    "collapsed": true
   },
   "outputs": [],
   "source": []
  },
  {
   "cell_type": "markdown",
   "metadata": {},
   "source": [
    "## test MP"
   ]
  },
  {
   "cell_type": "code",
   "execution_count": 158,
   "metadata": {},
   "outputs": [
    {
     "name": "stderr",
     "output_type": "stream",
     "text": [
      "100%|██████████| 4382202/4382202 [12:51<00:00, 5679.66it/s]\n",
      "100%|██████████| 4382202/4382202 [12:51<00:00, 5679.47it/s]\n",
      "100%|██████████| 4382202/4382202 [12:52<00:00, 5669.11it/s]\n",
      "100%|██████████| 4382202/4382202 [12:58<00:00, 5632.48it/s]\n",
      "100%|██████████| 4382202/4382202 [13:01<00:00, 5610.27it/s]\n",
      "100%|██████████| 4382202/4382202 [13:01<00:00, 5604.62it/s]\n",
      "100%|██████████| 4382202/4382202 [12:52<00:00, 5673.80it/s]\n",
      "100%|██████████| 4382202/4382202 [12:57<00:00, 5639.67it/s]\n",
      "100%|██████████| 4382202/4382202 [12:57<00:00, 5637.70it/s]\n",
      "100%|██████████| 4382202/4382202 [12:54<00:00, 5661.07it/s]\n",
      "100%|██████████| 4382202/4382202 [12:55<00:00, 5647.51it/s]\n",
      "100%|██████████| 4382202/4382202 [12:57<00:00, 5637.63it/s]\n",
      "100%|██████████| 4382202/4382202 [12:54<00:00, 5660.30it/s]\n",
      "100%|██████████| 4382202/4382202 [12:53<00:00, 5664.56it/s]\n",
      "100%|██████████| 4382202/4382202 [12:55<00:00, 5653.61it/s]\n",
      "100%|██████████| 4382202/4382202 [12:59<00:00, 5621.73it/s]\n",
      "100%|██████████| 4382202/4382202 [12:56<00:00, 5642.24it/s]\n",
      "100%|██████████| 4382202/4382202 [13:01<00:00, 5609.90it/s]\n",
      "100%|██████████| 4382202/4382202 [12:46<00:00, 5713.51it/s]\n",
      "100%|██████████| 4382202/4382202 [12:54<00:00, 5659.79it/s]\n",
      "100%|██████████| 4382202/4382202 [12:51<00:00, 5678.68it/s]\n",
      "100%|██████████| 4382202/4382202 [12:54<00:00, 5661.70it/s]\n",
      "100%|██████████| 4382202/4382202 [12:56<00:00, 5643.89it/s]\n",
      "100%|██████████| 4382202/4382202 [13:01<00:00, 5606.02it/s]\n",
      "100%|██████████| 4382202/4382202 [12:55<00:00, 5651.29it/s]\n",
      "100%|██████████| 4382202/4382202 [12:46<00:00, 5715.55it/s]\n",
      "100%|██████████| 4382202/4382202 [12:53<00:00, 5666.15it/s]\n",
      "100%|██████████| 4382202/4382202 [12:52<00:00, 5674.93it/s]\n",
      "100%|██████████| 4382202/4382202 [12:54<00:00, 5655.77it/s]\n",
      "100%|██████████| 4382202/4382202 [12:55<00:00, 5651.42it/s]\n",
      "100%|██████████| 4382202/4382202 [12:49<00:00, 5697.20it/s]\n",
      "100%|██████████| 4382202/4382202 [12:53<00:00, 5664.86it/s]\n",
      "100%|██████████| 4382202/4382202 [12:53<00:00, 5661.82it/s]\n",
      "100%|██████████| 4382202/4382202 [12:57<00:00, 5634.37it/s]\n",
      "100%|██████████| 4382202/4382202 [12:56<00:00, 5645.51it/s]\n",
      "100%|██████████| 4382202/4382202 [13:02<00:00, 5601.14it/s]\n",
      "100%|██████████| 4382202/4382202 [12:57<00:00, 5637.10it/s]\n",
      "100%|██████████| 4382202/4382202 [12:57<00:00, 5639.77it/s]\n",
      "100%|██████████| 4382202/4382202 [12:57<00:00, 5637.99it/s]\n",
      "100%|██████████| 4382202/4382202 [12:53<00:00, 5667.71it/s]\n",
      "100%|██████████| 4382202/4382202 [12:49<00:00, 5697.39it/s]\n",
      "100%|██████████| 4382202/4382202 [12:53<00:00, 5663.63it/s]\n",
      "100%|██████████| 4382202/4382202 [12:53<00:00, 5664.44it/s]\n",
      "100%|██████████| 4382202/4382202 [12:52<00:00, 5671.23it/s]\n",
      "100%|██████████| 4382202/4382202 [13:02<00:00, 5600.86it/s]\n",
      "100%|██████████| 4382202/4382202 [13:01<00:00, 5605.25it/s]\n",
      "100%|██████████| 4382202/4382202 [13:03<00:00, 5591.96it/s]\n",
      "100%|██████████| 4382202/4382202 [12:49<00:00, 5693.75it/s]]\n",
      "100%|██████████| 4382202/4382202 [12:46<00:00, 5718.05it/s]]\n",
      "100%|██████████| 4382202/4382202 [12:46<00:00, 5719.65it/s]]\n",
      "100%|██████████| 4382202/4382202 [12:47<00:00, 5710.65it/s]]\n",
      "100%|██████████| 4382202/4382202 [12:50<00:00, 5684.80it/s]]\n",
      "100%|██████████| 4382202/4382202 [12:49<00:00, 5697.81it/s] \n",
      "100%|██████████| 4382202/4382202 [12:50<00:00, 5685.42it/s]\n",
      "100%|██████████| 4382202/4382202 [12:48<00:00, 5700.33it/s]\n",
      "100%|██████████| 4382202/4382202 [12:49<00:00, 5696.50it/s]\n",
      "100%|██████████| 4382202/4382202 [12:57<00:00, 5636.92it/s]\n",
      "100%|██████████| 4382202/4382202 [12:55<00:00, 5651.79it/s]\n",
      "100%|██████████| 4382202/4382202 [12:57<00:00, 5639.48it/s]\n",
      "100%|██████████| 4382202/4382202 [12:54<00:00, 5659.69it/s]\n",
      "100%|██████████| 4382202/4382202 [13:01<00:00, 5610.43it/s]\n",
      "100%|██████████| 4382202/4382202 [12:52<00:00, 5671.41it/s]\n",
      "100%|██████████| 4382202/4382202 [12:47<00:00, 5712.76it/s]]\n",
      "100%|██████████| 4382202/4382202 [12:52<00:00, 5671.43it/s]]\n",
      "100%|██████████| 4382202/4382202 [12:52<00:00, 5671.03it/s]]\n",
      "100%|██████████| 4382202/4382202 [12:47<00:00, 5709.51it/s]]\n",
      "100%|██████████| 4382202/4382202 [12:52<00:00, 5673.55it/s]]\n",
      "100%|██████████| 4382202/4382202 [12:58<00:00, 5631.60it/s]]\n",
      "100%|██████████| 4382202/4382202 [13:05<00:00, 5578.90it/s]]\n",
      "100%|██████████| 4382202/4382202 [13:04<00:00, 5584.64it/s]]\n",
      "100%|██████████| 4382202/4382202 [12:58<00:00, 5627.38it/s]]\n",
      "100%|██████████| 4382202/4382202 [13:06<00:00, 5568.61it/s]]\n",
      "100%|██████████| 4382202/4382202 [1:28:01<00:00, 829.76it/s]\n",
      "100%|██████████| 4382202/4382202 [13:01<00:00, 5604.33it/s]]\n",
      "100%|██████████| 4382202/4382202 [13:06<00:00, 5569.92it/s]]\n",
      "100%|██████████| 4382202/4382202 [13:08<00:00, 5557.68it/s]]\n",
      "100%|██████████| 4382202/4382202 [13:02<00:00, 5602.42it/s] \n",
      "100%|██████████| 4382202/4382202 [13:09<00:00, 5548.86it/s]\n",
      "100%|██████████| 4382202/4382202 [13:02<00:00, 5598.16it/s]\n",
      "100%|██████████| 4382202/4382202 [13:08<00:00, 5557.46it/s]\n",
      " 46%|████▋     | 2036719/4382202 [06:05<07:01, 5568.29it/s]Process ForkPoolWorker-73:\n",
      "Process ForkPoolWorker-74:\n",
      "Process ForkPoolWorker-72:\n",
      "Process ForkPoolWorker-75:\n",
      "Process ForkPoolWorker-76:\n",
      "Process ForkPoolWorker-77:\n",
      "Traceback (most recent call last):\n",
      "Traceback (most recent call last):\n",
      "Traceback (most recent call last):\n",
      "  File \"/anaconda/envs/py35/lib/python3.5/multiprocessing/process.py\", line 249, in _bootstrap\n",
      "    self.run()\n",
      "Traceback (most recent call last):\n",
      "Traceback (most recent call last):\n",
      "  File \"/anaconda/envs/py35/lib/python3.5/multiprocessing/process.py\", line 249, in _bootstrap\n",
      "    self.run()\n",
      "  File \"/anaconda/envs/py35/lib/python3.5/multiprocessing/process.py\", line 93, in run\n",
      "    self._target(*self._args, **self._kwargs)\n",
      "  File \"/anaconda/envs/py35/lib/python3.5/multiprocessing/process.py\", line 249, in _bootstrap\n",
      "    self.run()\n",
      "  File \"/anaconda/envs/py35/lib/python3.5/multiprocessing/process.py\", line 249, in _bootstrap\n",
      "    self.run()\n",
      "  File \"/anaconda/envs/py35/lib/python3.5/multiprocessing/process.py\", line 93, in run\n",
      "    self._target(*self._args, **self._kwargs)\n",
      "  File \"/anaconda/envs/py35/lib/python3.5/multiprocessing/process.py\", line 249, in _bootstrap\n",
      "    self.run()\n",
      "  File \"/anaconda/envs/py35/lib/python3.5/multiprocessing/pool.py\", line 119, in worker\n",
      "    result = (True, func(*args, **kwds))\n",
      "  File \"/anaconda/envs/py35/lib/python3.5/multiprocessing/pool.py\", line 119, in worker\n",
      "    result = (True, func(*args, **kwds))\n",
      "  File \"/anaconda/envs/py35/lib/python3.5/multiprocessing/process.py\", line 93, in run\n",
      "    self._target(*self._args, **self._kwargs)\n",
      "  File \"/anaconda/envs/py35/lib/python3.5/multiprocessing/process.py\", line 93, in run\n",
      "    self._target(*self._args, **self._kwargs)\n",
      "  File \"/anaconda/envs/py35/lib/python3.5/multiprocessing/process.py\", line 93, in run\n",
      "    self._target(*self._args, **self._kwargs)\n",
      "  File \"/anaconda/envs/py35/lib/python3.5/multiprocessing/pool.py\", line 44, in mapstar\n",
      "    return list(map(*args))\n",
      "  File \"/anaconda/envs/py35/lib/python3.5/multiprocessing/pool.py\", line 119, in worker\n",
      "    result = (True, func(*args, **kwds))\n",
      "  File \"/anaconda/envs/py35/lib/python3.5/multiprocessing/pool.py\", line 119, in worker\n",
      "    result = (True, func(*args, **kwds))\n",
      "  File \"/anaconda/envs/py35/lib/python3.5/multiprocessing/pool.py\", line 44, in mapstar\n",
      "    return list(map(*args))\n",
      "  File \"/anaconda/envs/py35/lib/python3.5/multiprocessing/pool.py\", line 119, in worker\n",
      "    result = (True, func(*args, **kwds))\n",
      "  File \"/anaconda/envs/py35/lib/python3.5/multiprocessing/pool.py\", line 44, in mapstar\n",
      "    return list(map(*args))\n",
      "  File \"/anaconda/envs/py35/lib/python3.5/multiprocessing/pool.py\", line 44, in mapstar\n",
      "    return list(map(*args))\n",
      "  File \"<ipython-input-149-b2edb26f4809>\", line 2, in g\n",
      "    return do_all_for_single_split(x, table_2x3, case_control, table, chi2_hash, args.rows_number)\n",
      "  File \"/anaconda/envs/py35/lib/python3.5/multiprocessing/pool.py\", line 44, in mapstar\n",
      "    return list(map(*args))\n",
      "  File \"<ipython-input-149-b2edb26f4809>\", line 2, in g\n",
      "    return do_all_for_single_split(x, table_2x3, case_control, table, chi2_hash, args.rows_number)\n",
      "  File \"<ipython-input-149-b2edb26f4809>\", line 2, in g\n",
      "    return do_all_for_single_split(x, table_2x3, case_control, table, chi2_hash, args.rows_number)\n",
      "  File \"<ipython-input-149-b2edb26f4809>\", line 2, in g\n",
      "    return do_all_for_single_split(x, table_2x3, case_control, table, chi2_hash, args.rows_number)\n"
     ]
    },
    {
     "name": "stderr",
     "output_type": "stream",
     "text": [
      "  File \"<ipython-input-99-47939cf8a5aa>\", line 9, in do_all_for_single_split\n",
      "    cut=args.rows_number)\n",
      "  File \"<ipython-input-99-47939cf8a5aa>\", line 9, in do_all_for_single_split\n",
      "    cut=args.rows_number)\n",
      "  File \"<ipython-input-99-47939cf8a5aa>\", line 9, in do_all_for_single_split\n",
      "    cut=args.rows_number)\n",
      "  File \"<ipython-input-149-b2edb26f4809>\", line 2, in g\n",
      "    return do_all_for_single_split(x, table_2x3, case_control, table, chi2_hash, args.rows_number)\n",
      "  File \"/home/arykachevskiy/gene_research/ASD_package/lib/row_cheker.py\", line 103, in check_loo_table\n",
      "    p_vals = check_p_vals(table, chi2_hash, update_hash, tests_mask)\n",
      "  File \"<ipython-input-99-47939cf8a5aa>\", line 9, in do_all_for_single_split\n",
      "    cut=args.rows_number)\n",
      "  File \"/home/arykachevskiy/gene_research/ASD_package/lib/row_cheker.py\", line 103, in check_loo_table\n",
      "    p_vals = check_p_vals(table, chi2_hash, update_hash, tests_mask)\n",
      "  File \"/home/arykachevskiy/gene_research/ASD_package/lib/row_cheker.py\", line 103, in check_loo_table\n",
      "    p_vals = check_p_vals(table, chi2_hash, update_hash, tests_mask)\n",
      "  File \"/home/arykachevskiy/gene_research/ASD_package/lib/row_cheker.py\", line 74, in check_p_vals\n",
      "    table_tuple = tuple(new_table.flatten())\n",
      "  File \"/home/arykachevskiy/gene_research/ASD_package/lib/row_cheker.py\", line 73, in check_p_vals\n",
      "    new_table = table_wrap(table_creator(np.copy(table)))\n",
      "  File \"<ipython-input-99-47939cf8a5aa>\", line 9, in do_all_for_single_split\n",
      "    cut=args.rows_number)\n",
      "  File \"/home/arykachevskiy/gene_research/ASD_package/lib/row_cheker.py\", line 79, in check_p_vals\n",
      "    chi2_value = chi2_contingency(new_table, True)[1]\n",
      "  File \"/home/arykachevskiy/gene_research/ASD_package/lib/row_cheker.py\", line 103, in check_loo_table\n",
      "    p_vals = check_p_vals(table, chi2_hash, update_hash, tests_mask)\n",
      "  File \"/home/arykachevskiy/gene_research/ASD_package/lib/row_cheker.py\", line 39, in to_allelic\n",
      "    new_table[:, 1] = table[:, 1] + 2 * table[:, 2]\n",
      "KeyboardInterrupt\n",
      "  File \"/home/arykachevskiy/gene_research/ASD_package/lib/row_cheker.py\", line 99, in check_loo_table\n",
      "    for i in tqdm.tqdm(range(sumed_tables_2x3.shape[0])):\n",
      "KeyboardInterrupt\n",
      "  File \"/home/arykachevskiy/gene_research/ASD_package/lib/row_cheker.py\", line 73, in check_p_vals\n",
      "    new_table = table_wrap(table_creator(np.copy(table)))\n",
      "  File \"/anaconda/envs/py35/lib/python3.5/site-packages/tqdm/_tqdm.py\", line 979, in __iter__\n",
      "    sp(self.__repr__())\n",
      "  File \"/anaconda/envs/py35/lib/python3.5/site-packages/numpy/lib/function_base.py\", line 1497, in copy\n",
      "    return array(a, order=order, copy=True)\n",
      "  File \"/anaconda/envs/py35/lib/python3.5/site-packages/tqdm/_tqdm.py\", line 241, in print_status\n",
      "    fp_write('\\r' + s + (' ' * max(last_len[0] - len_s, 0)))\n",
      "  File \"/anaconda/envs/py35/lib/python3.5/site-packages/scipy/stats/contingency.py\", line 247, in chi2_contingency\n",
      "    expected = expected_freq(observed)\n",
      "  File \"/anaconda/envs/py35/lib/python3.5/site-packages/scipy/stats/contingency.py\", line 101, in expected_freq\n",
      "    margsums = margins(observed)\n",
      "  File \"/anaconda/envs/py35/lib/python3.5/site-packages/scipy/stats/contingency.py\", line 59, in margins\n",
      "    marg = np.apply_over_axes(np.sum, a, [j for j in ranged if j != k])\n",
      "  File \"/anaconda/envs/py35/lib/python3.5/site-packages/tqdm/_tqdm.py\", line 235, in fp_write\n",
      "    fp_flush()\n",
      "KeyboardInterrupt\n",
      "  File \"/anaconda/envs/py35/lib/python3.5/site-packages/ipykernel/iostream.py\", line 323, in flush\n",
      "    self._flush()\n",
      "  File \"/anaconda/envs/py35/lib/python3.5/site-packages/numpy/lib/shape_base.py\", line 228, in apply_over_axes\n",
      "    if res.ndim == val.ndim:\n",
      "KeyboardInterrupt\n",
      "  File \"/anaconda/envs/py35/lib/python3.5/site-packages/ipykernel/iostream.py\", line 340, in _flush\n",
      "    parent=self.parent_header, ident=self.topic)\n",
      "  File \"/anaconda/envs/py35/lib/python3.5/site-packages/jupyter_client/session.py\", line 741, in send\n",
      "    stream.send_multipart(to_send, copy=copy)\n",
      "  File \"/anaconda/envs/py35/lib/python3.5/site-packages/ipykernel/iostream.py\", line 199, in send_multipart\n",
      "    self.schedule(lambda : self._really_send(*args, **kwargs))\n",
      "  File \"/anaconda/envs/py35/lib/python3.5/site-packages/ipykernel/iostream.py\", line 192, in schedule\n",
      "    f()\n",
      "Traceback (most recent call last):\n",
      "  File \"/anaconda/envs/py35/lib/python3.5/site-packages/ipykernel/iostream.py\", line 199, in <lambda>\n",
      "    self.schedule(lambda : self._really_send(*args, **kwargs))\n",
      "  File \"/anaconda/envs/py35/lib/python3.5/multiprocessing/process.py\", line 249, in _bootstrap\n",
      "    self.run()\n",
      "  File \"/anaconda/envs/py35/lib/python3.5/site-packages/ipykernel/iostream.py\", line 215, in _really_send\n",
      "    ctx.term()\n",
      "  File \"/anaconda/envs/py35/lib/python3.5/multiprocessing/process.py\", line 93, in run\n",
      "    self._target(*self._args, **self._kwargs)\n",
      "  File \"/anaconda/envs/py35/lib/python3.5/multiprocessing/pool.py\", line 44, in mapstar\n",
      "    return list(map(*args))\n",
      "  File \"/anaconda/envs/py35/lib/python3.5/multiprocessing/pool.py\", line 119, in worker\n",
      "    result = (True, func(*args, **kwds))\n",
      "  File \"zmq/backend/cython/context.pyx\", line 136, in zmq.backend.cython.context.Context.term (zmq/backend/cython/context.c:2339)\n",
      "  File \"<ipython-input-149-b2edb26f4809>\", line 2, in g\n",
      "    return do_all_for_single_split(x, table_2x3, case_control, table, chi2_hash, args.rows_number)\n",
      "  File \"<ipython-input-99-47939cf8a5aa>\", line 9, in do_all_for_single_split\n",
      "    cut=args.rows_number)\n",
      "  File \"zmq/backend/cython/checkrc.pxd\", line 12, in zmq.backend.cython.checkrc._check_rc (zmq/backend/cython/context.c:3207)\n",
      "KeyboardInterrupt\n",
      "  File \"/home/arykachevskiy/gene_research/ASD_package/lib/row_cheker.py\", line 103, in check_loo_table\n",
      "    p_vals = check_p_vals(table, chi2_hash, update_hash, tests_mask)\n",
      "  File \"/home/arykachevskiy/gene_research/ASD_package/lib/row_cheker.py\", line 79, in check_p_vals\n",
      "    chi2_value = chi2_contingency(new_table, True)[1]\n",
      "  File \"/anaconda/envs/py35/lib/python3.5/site-packages/scipy/stats/contingency.py\", line 247, in chi2_contingency\n",
      "    expected = expected_freq(observed)\n",
      "  File \"/anaconda/envs/py35/lib/python3.5/site-packages/scipy/stats/contingency.py\", line 98, in expected_freq\n",
      "    observed = np.asarray(observed, dtype=np.float64)\n",
      "  File \"/anaconda/envs/py35/lib/python3.5/site-packages/numpy/core/numeric.py\", line 531, in asarray\n",
      "    return array(a, dtype, copy=False, order=order)\n",
      "KeyboardInterrupt\n"
     ]
    }
   ],
   "source": [
    "pool = multiprocessing.Pool(6)"
   ]
  },
  {
   "cell_type": "code",
   "execution_count": 159,
   "metadata": {
    "collapsed": true
   },
   "outputs": [],
   "source": [
    "def g(x):\n",
    "    return do_all_for_single_split(x, table_2x3, case_control, table, chi2_hash, args.rows_number)"
   ]
  },
  {
   "cell_type": "code",
   "execution_count": null,
   "metadata": {
    "scrolled": false
   },
   "outputs": [
    {
     "ename": "KeyboardInterrupt",
     "evalue": "",
     "output_type": "error",
     "traceback": [
      "\u001b[0;31m---------------------------------------------------------------------------\u001b[0m",
      "\u001b[0;31mKeyboardInterrupt\u001b[0m                         Traceback (most recent call last)",
      "\u001b[0;32m<ipython-input-160-6edd166f5f58>\u001b[0m in \u001b[0;36m<module>\u001b[0;34m()\u001b[0m\n\u001b[0;32m----> 1\u001b[0;31m \u001b[0mansw_50_428\u001b[0m \u001b[0;34m=\u001b[0m \u001b[0mpool\u001b[0m\u001b[0;34m.\u001b[0m\u001b[0mmap\u001b[0m\u001b[0;34m(\u001b[0m\u001b[0mg\u001b[0m\u001b[0;34m,\u001b[0m \u001b[0mtrain_test_indexes\u001b[0m\u001b[0;34m[\u001b[0m\u001b[0;36m50\u001b[0m\u001b[0;34m:\u001b[0m\u001b[0;34m]\u001b[0m\u001b[0;34m)\u001b[0m\u001b[0;34m\u001b[0m\u001b[0m\n\u001b[0m",
      "\u001b[0;32m/anaconda/envs/py35/lib/python3.5/multiprocessing/pool.py\u001b[0m in \u001b[0;36mmap\u001b[0;34m(self, func, iterable, chunksize)\u001b[0m\n\u001b[1;32m    258\u001b[0m         \u001b[0;32min\u001b[0m \u001b[0ma\u001b[0m \u001b[0mlist\u001b[0m \u001b[0mthat\u001b[0m \u001b[0;32mis\u001b[0m \u001b[0mreturned\u001b[0m\u001b[0;34m.\u001b[0m\u001b[0;34m\u001b[0m\u001b[0m\n\u001b[1;32m    259\u001b[0m         '''\n\u001b[0;32m--> 260\u001b[0;31m         \u001b[0;32mreturn\u001b[0m \u001b[0mself\u001b[0m\u001b[0;34m.\u001b[0m\u001b[0m_map_async\u001b[0m\u001b[0;34m(\u001b[0m\u001b[0mfunc\u001b[0m\u001b[0;34m,\u001b[0m \u001b[0miterable\u001b[0m\u001b[0;34m,\u001b[0m \u001b[0mmapstar\u001b[0m\u001b[0;34m,\u001b[0m \u001b[0mchunksize\u001b[0m\u001b[0;34m)\u001b[0m\u001b[0;34m.\u001b[0m\u001b[0mget\u001b[0m\u001b[0;34m(\u001b[0m\u001b[0;34m)\u001b[0m\u001b[0;34m\u001b[0m\u001b[0m\n\u001b[0m\u001b[1;32m    261\u001b[0m \u001b[0;34m\u001b[0m\u001b[0m\n\u001b[1;32m    262\u001b[0m     \u001b[0;32mdef\u001b[0m \u001b[0mstarmap\u001b[0m\u001b[0;34m(\u001b[0m\u001b[0mself\u001b[0m\u001b[0;34m,\u001b[0m \u001b[0mfunc\u001b[0m\u001b[0;34m,\u001b[0m \u001b[0miterable\u001b[0m\u001b[0;34m,\u001b[0m \u001b[0mchunksize\u001b[0m\u001b[0;34m=\u001b[0m\u001b[0;32mNone\u001b[0m\u001b[0;34m)\u001b[0m\u001b[0;34m:\u001b[0m\u001b[0;34m\u001b[0m\u001b[0m\n",
      "\u001b[0;32m/anaconda/envs/py35/lib/python3.5/multiprocessing/pool.py\u001b[0m in \u001b[0;36mget\u001b[0;34m(self, timeout)\u001b[0m\n\u001b[1;32m    600\u001b[0m \u001b[0;34m\u001b[0m\u001b[0m\n\u001b[1;32m    601\u001b[0m     \u001b[0;32mdef\u001b[0m \u001b[0mget\u001b[0m\u001b[0;34m(\u001b[0m\u001b[0mself\u001b[0m\u001b[0;34m,\u001b[0m \u001b[0mtimeout\u001b[0m\u001b[0;34m=\u001b[0m\u001b[0;32mNone\u001b[0m\u001b[0;34m)\u001b[0m\u001b[0;34m:\u001b[0m\u001b[0;34m\u001b[0m\u001b[0m\n\u001b[0;32m--> 602\u001b[0;31m         \u001b[0mself\u001b[0m\u001b[0;34m.\u001b[0m\u001b[0mwait\u001b[0m\u001b[0;34m(\u001b[0m\u001b[0mtimeout\u001b[0m\u001b[0;34m)\u001b[0m\u001b[0;34m\u001b[0m\u001b[0m\n\u001b[0m\u001b[1;32m    603\u001b[0m         \u001b[0;32mif\u001b[0m \u001b[0;32mnot\u001b[0m \u001b[0mself\u001b[0m\u001b[0;34m.\u001b[0m\u001b[0mready\u001b[0m\u001b[0;34m(\u001b[0m\u001b[0;34m)\u001b[0m\u001b[0;34m:\u001b[0m\u001b[0;34m\u001b[0m\u001b[0m\n\u001b[1;32m    604\u001b[0m             \u001b[0;32mraise\u001b[0m \u001b[0mTimeoutError\u001b[0m\u001b[0;34m\u001b[0m\u001b[0m\n",
      "\u001b[0;32m/anaconda/envs/py35/lib/python3.5/multiprocessing/pool.py\u001b[0m in \u001b[0;36mwait\u001b[0;34m(self, timeout)\u001b[0m\n\u001b[1;32m    597\u001b[0m \u001b[0;34m\u001b[0m\u001b[0m\n\u001b[1;32m    598\u001b[0m     \u001b[0;32mdef\u001b[0m \u001b[0mwait\u001b[0m\u001b[0;34m(\u001b[0m\u001b[0mself\u001b[0m\u001b[0;34m,\u001b[0m \u001b[0mtimeout\u001b[0m\u001b[0;34m=\u001b[0m\u001b[0;32mNone\u001b[0m\u001b[0;34m)\u001b[0m\u001b[0;34m:\u001b[0m\u001b[0;34m\u001b[0m\u001b[0m\n\u001b[0;32m--> 599\u001b[0;31m         \u001b[0mself\u001b[0m\u001b[0;34m.\u001b[0m\u001b[0m_event\u001b[0m\u001b[0;34m.\u001b[0m\u001b[0mwait\u001b[0m\u001b[0;34m(\u001b[0m\u001b[0mtimeout\u001b[0m\u001b[0;34m)\u001b[0m\u001b[0;34m\u001b[0m\u001b[0m\n\u001b[0m\u001b[1;32m    600\u001b[0m \u001b[0;34m\u001b[0m\u001b[0m\n\u001b[1;32m    601\u001b[0m     \u001b[0;32mdef\u001b[0m \u001b[0mget\u001b[0m\u001b[0;34m(\u001b[0m\u001b[0mself\u001b[0m\u001b[0;34m,\u001b[0m \u001b[0mtimeout\u001b[0m\u001b[0;34m=\u001b[0m\u001b[0;32mNone\u001b[0m\u001b[0;34m)\u001b[0m\u001b[0;34m:\u001b[0m\u001b[0;34m\u001b[0m\u001b[0m\n",
      "\u001b[0;32m/anaconda/envs/py35/lib/python3.5/threading.py\u001b[0m in \u001b[0;36mwait\u001b[0;34m(self, timeout)\u001b[0m\n\u001b[1;32m    547\u001b[0m             \u001b[0msignaled\u001b[0m \u001b[0;34m=\u001b[0m \u001b[0mself\u001b[0m\u001b[0;34m.\u001b[0m\u001b[0m_flag\u001b[0m\u001b[0;34m\u001b[0m\u001b[0m\n\u001b[1;32m    548\u001b[0m             \u001b[0;32mif\u001b[0m \u001b[0;32mnot\u001b[0m \u001b[0msignaled\u001b[0m\u001b[0;34m:\u001b[0m\u001b[0;34m\u001b[0m\u001b[0m\n\u001b[0;32m--> 549\u001b[0;31m                 \u001b[0msignaled\u001b[0m \u001b[0;34m=\u001b[0m \u001b[0mself\u001b[0m\u001b[0;34m.\u001b[0m\u001b[0m_cond\u001b[0m\u001b[0;34m.\u001b[0m\u001b[0mwait\u001b[0m\u001b[0;34m(\u001b[0m\u001b[0mtimeout\u001b[0m\u001b[0;34m)\u001b[0m\u001b[0;34m\u001b[0m\u001b[0m\n\u001b[0m\u001b[1;32m    550\u001b[0m             \u001b[0;32mreturn\u001b[0m \u001b[0msignaled\u001b[0m\u001b[0;34m\u001b[0m\u001b[0m\n\u001b[1;32m    551\u001b[0m \u001b[0;34m\u001b[0m\u001b[0m\n",
      "\u001b[0;32m/anaconda/envs/py35/lib/python3.5/threading.py\u001b[0m in \u001b[0;36mwait\u001b[0;34m(self, timeout)\u001b[0m\n\u001b[1;32m    291\u001b[0m         \u001b[0;32mtry\u001b[0m\u001b[0;34m:\u001b[0m    \u001b[0;31m# restore state no matter what (e.g., KeyboardInterrupt)\u001b[0m\u001b[0;34m\u001b[0m\u001b[0m\n\u001b[1;32m    292\u001b[0m             \u001b[0;32mif\u001b[0m \u001b[0mtimeout\u001b[0m \u001b[0;32mis\u001b[0m \u001b[0;32mNone\u001b[0m\u001b[0;34m:\u001b[0m\u001b[0;34m\u001b[0m\u001b[0m\n\u001b[0;32m--> 293\u001b[0;31m                 \u001b[0mwaiter\u001b[0m\u001b[0;34m.\u001b[0m\u001b[0macquire\u001b[0m\u001b[0;34m(\u001b[0m\u001b[0;34m)\u001b[0m\u001b[0;34m\u001b[0m\u001b[0m\n\u001b[0m\u001b[1;32m    294\u001b[0m                 \u001b[0mgotit\u001b[0m \u001b[0;34m=\u001b[0m \u001b[0;32mTrue\u001b[0m\u001b[0;34m\u001b[0m\u001b[0m\n\u001b[1;32m    295\u001b[0m             \u001b[0;32melse\u001b[0m\u001b[0;34m:\u001b[0m\u001b[0;34m\u001b[0m\u001b[0m\n",
      "\u001b[0;31mKeyboardInterrupt\u001b[0m: "
     ]
    },
    {
     "name": "stderr",
     "output_type": "stream",
     "text": [
      "Exception in thread Thread-43:\n",
      "Traceback (most recent call last):\n",
      "  File \"/anaconda/envs/py35/lib/python3.5/threading.py\", line 914, in _bootstrap_inner\n",
      "    self.run()\n",
      "  File \"/anaconda/envs/py35/lib/python3.5/threading.py\", line 862, in run\n",
      "    self._target(*self._args, **self._kwargs)\n",
      "  File \"/anaconda/envs/py35/lib/python3.5/multiprocessing/pool.py\", line 366, in _handle_workers\n",
      "    pool._maintain_pool()\n",
      "  File \"/anaconda/envs/py35/lib/python3.5/multiprocessing/pool.py\", line 240, in _maintain_pool\n",
      "    self._repopulate_pool()\n",
      "  File \"/anaconda/envs/py35/lib/python3.5/multiprocessing/pool.py\", line 233, in _repopulate_pool\n",
      "    w.start()\n",
      "  File \"/anaconda/envs/py35/lib/python3.5/multiprocessing/process.py\", line 105, in start\n",
      "    self._popen = self._Popen(self)\n",
      "  File \"/anaconda/envs/py35/lib/python3.5/multiprocessing/context.py\", line 267, in _Popen\n",
      "    return Popen(process_obj)\n",
      "  File \"/anaconda/envs/py35/lib/python3.5/multiprocessing/popen_fork.py\", line 20, in __init__\n",
      "    self._launch(process_obj)\n",
      "  File \"/anaconda/envs/py35/lib/python3.5/multiprocessing/popen_fork.py\", line 67, in _launch\n",
      "    self.pid = os.fork()\n",
      "OSError: [Errno 12] Cannot allocate memory\n",
      "Exception in thread Thread-28:\n",
      "Traceback (most recent call last):\n",
      "  File \"/anaconda/envs/py35/lib/python3.5/threading.py\", line 914, in _bootstrap_inner\n",
      "    self.run()\n",
      "  File \"/anaconda/envs/py35/lib/python3.5/threading.py\", line 862, in run\n",
      "    self._target(*self._args, **self._kwargs)\n",
      "  File \"/anaconda/envs/py35/lib/python3.5/multiprocessing/pool.py\", line 366, in _handle_workers\n",
      "    pool._maintain_pool()\n",
      "  File \"/anaconda/envs/py35/lib/python3.5/multiprocessing/pool.py\", line 240, in _maintain_pool\n",
      "    self._repopulate_pool()\n",
      "  File \"/anaconda/envs/py35/lib/python3.5/multiprocessing/pool.py\", line 233, in _repopulate_pool\n",
      "    w.start()\n",
      "  File \"/anaconda/envs/py35/lib/python3.5/multiprocessing/process.py\", line 105, in start\n",
      "    self._popen = self._Popen(self)\n",
      "  File \"/anaconda/envs/py35/lib/python3.5/multiprocessing/context.py\", line 267, in _Popen\n",
      "    return Popen(process_obj)\n",
      "  File \"/anaconda/envs/py35/lib/python3.5/multiprocessing/popen_fork.py\", line 20, in __init__\n",
      "    self._launch(process_obj)\n",
      "  File \"/anaconda/envs/py35/lib/python3.5/multiprocessing/popen_fork.py\", line 67, in _launch\n",
      "    self.pid = os.fork()\n",
      "OSError: [Errno 12] Cannot allocate memory\n",
      "\n",
      "\n",
      "Exception in thread Thread-34:\n",
      "Traceback (most recent call last):\n",
      "  File \"/anaconda/envs/py35/lib/python3.5/threading.py\", line 914, in _bootstrap_inner\n",
      "    self.run()\n",
      "  File \"/anaconda/envs/py35/lib/python3.5/threading.py\", line 862, in run\n",
      "    self._target(*self._args, **self._kwargs)\n",
      "  File \"/anaconda/envs/py35/lib/python3.5/multiprocessing/pool.py\", line 366, in _handle_workers\n",
      "    pool._maintain_pool()\n",
      "  File \"/anaconda/envs/py35/lib/python3.5/multiprocessing/pool.py\", line 240, in _maintain_pool\n",
      "    self._repopulate_pool()\n",
      "  File \"/anaconda/envs/py35/lib/python3.5/multiprocessing/pool.py\", line 233, in _repopulate_pool\n",
      "    w.start()\n",
      "  File \"/anaconda/envs/py35/lib/python3.5/multiprocessing/process.py\", line 105, in start\n",
      "    self._popen = self._Popen(self)\n",
      "  File \"/anaconda/envs/py35/lib/python3.5/multiprocessing/context.py\", line 267, in _Popen\n",
      "    return Popen(process_obj)\n",
      "  File \"/anaconda/envs/py35/lib/python3.5/multiprocessing/popen_fork.py\", line 20, in __init__\n",
      "    self._launch(process_obj)\n",
      "  File \"/anaconda/envs/py35/lib/python3.5/multiprocessing/popen_fork.py\", line 67, in _launch\n",
      "    self.pid = os.fork()\n",
      "OSError: [Errno 12] Cannot allocate memory\n",
      "Exception in thread Thread-31:\n",
      "Traceback (most recent call last):\n",
      "  File \"/anaconda/envs/py35/lib/python3.5/threading.py\", line 914, in _bootstrap_inner\n",
      "    self.run()\n",
      "  File \"/anaconda/envs/py35/lib/python3.5/threading.py\", line 862, in run\n",
      "    self._target(*self._args, **self._kwargs)\n",
      "  File \"/anaconda/envs/py35/lib/python3.5/multiprocessing/pool.py\", line 366, in _handle_workers\n",
      "    pool._maintain_pool()\n",
      "  File \"/anaconda/envs/py35/lib/python3.5/multiprocessing/pool.py\", line 240, in _maintain_pool\n",
      "    self._repopulate_pool()\n",
      "  File \"/anaconda/envs/py35/lib/python3.5/multiprocessing/pool.py\", line 233, in _repopulate_pool\n",
      "    w.start()\n",
      "  File \"/anaconda/envs/py35/lib/python3.5/multiprocessing/process.py\", line 105, in start\n",
      "    self._popen = self._Popen(self)\n",
      "  File \"/anaconda/envs/py35/lib/python3.5/multiprocessing/context.py\", line 267, in _Popen\n",
      "    return Popen(process_obj)\n",
      "  File \"/anaconda/envs/py35/lib/python3.5/multiprocessing/popen_fork.py\", line 20, in __init__\n",
      "    self._launch(process_obj)\n",
      "  File \"/anaconda/envs/py35/lib/python3.5/multiprocessing/popen_fork.py\", line 67, in _launch\n",
      "    self.pid = os.fork()\n",
      "OSError: [Errno 12] Cannot allocate memory\n",
      "Exception in thread Thread-46:\n",
      "Traceback (most recent call last):\n",
      "  File \"/anaconda/envs/py35/lib/python3.5/threading.py\", line 914, in _bootstrap_inner\n",
      "    self.run()\n",
      "  File \"/anaconda/envs/py35/lib/python3.5/threading.py\", line 862, in run\n",
      "    self._target(*self._args, **self._kwargs)\n",
      "  File \"/anaconda/envs/py35/lib/python3.5/multiprocessing/pool.py\", line 366, in _handle_workers\n",
      "    pool._maintain_pool()\n",
      "  File \"/anaconda/envs/py35/lib/python3.5/multiprocessing/pool.py\", line 240, in _maintain_pool\n",
      "    self._repopulate_pool()\n",
      "  File \"/anaconda/envs/py35/lib/python3.5/multiprocessing/pool.py\", line 233, in _repopulate_pool\n",
      "    w.start()\n",
      "  File \"/anaconda/envs/py35/lib/python3.5/multiprocessing/process.py\", line 105, in start\n",
      "    self._popen = self._Popen(self)\n",
      "  File \"/anaconda/envs/py35/lib/python3.5/multiprocessing/context.py\", line 267, in _Popen\n",
      "    return Popen(process_obj)\n",
      "  File \"/anaconda/envs/py35/lib/python3.5/multiprocessing/popen_fork.py\", line 20, in __init__\n",
      "    self._launch(process_obj)\n",
      "  File \"/anaconda/envs/py35/lib/python3.5/multiprocessing/popen_fork.py\", line 67, in _launch\n",
      "    self.pid = os.fork()\n",
      "OSError: [Errno 12] Cannot allocate memory\n",
      "\n",
      "\n",
      "\n",
      "Exception in thread Thread-37:\n",
      "Traceback (most recent call last):\n",
      "  File \"/anaconda/envs/py35/lib/python3.5/threading.py\", line 914, in _bootstrap_inner\n",
      "    self.run()\n",
      "  File \"/anaconda/envs/py35/lib/python3.5/threading.py\", line 862, in run\n",
      "    self._target(*self._args, **self._kwargs)\n",
      "  File \"/anaconda/envs/py35/lib/python3.5/multiprocessing/pool.py\", line 366, in _handle_workers\n",
      "    pool._maintain_pool()\n",
      "  File \"/anaconda/envs/py35/lib/python3.5/multiprocessing/pool.py\", line 240, in _maintain_pool\n",
      "    self._repopulate_pool()\n",
      "  File \"/anaconda/envs/py35/lib/python3.5/multiprocessing/pool.py\", line 233, in _repopulate_pool\n",
      "    w.start()\n",
      "  File \"/anaconda/envs/py35/lib/python3.5/multiprocessing/process.py\", line 105, in start\n",
      "    self._popen = self._Popen(self)\n",
      "  File \"/anaconda/envs/py35/lib/python3.5/multiprocessing/context.py\", line 267, in _Popen\n",
      "    return Popen(process_obj)\n",
      "  File \"/anaconda/envs/py35/lib/python3.5/multiprocessing/popen_fork.py\", line 20, in __init__\n",
      "    self._launch(process_obj)\n",
      "  File \"/anaconda/envs/py35/lib/python3.5/multiprocessing/popen_fork.py\", line 67, in _launch\n",
      "    self.pid = os.fork()\n",
      "OSError: [Errno 12] Cannot allocate memory\n",
      "\n",
      "Exception ignored in: <Finalize object, dead>\n",
      "Traceback (most recent call last):\n",
      "  File \"/anaconda/envs/py35/lib/python3.5/multiprocessing/util.py\", line 186, in __call__\n",
      "    res = self._callback(*self._args, **self._kwargs)\n",
      "  File \"/anaconda/envs/py35/lib/python3.5/multiprocessing/pool.py\", line 553, in _terminate_pool\n",
      "    p.terminate()\n",
      "  File \"/anaconda/envs/py35/lib/python3.5/multiprocessing/process.py\", line 113, in terminate\n",
      "    self._popen.terminate()\n",
      "AttributeError: 'NoneType' object has no attribute 'terminate'\n"
     ]
    }
   ],
   "source": [
    "answ_50_428 = pool.map(g, train_test_indexes[50:])"
   ]
  },
  {
   "cell_type": "code",
   "execution_count": null,
   "metadata": {},
   "outputs": [],
   "source": [
    "answ_10_428"
   ]
  },
  {
   "cell_type": "code",
   "execution_count": null,
   "metadata": {
    "collapsed": true
   },
   "outputs": [],
   "source": []
  },
  {
   "cell_type": "code",
   "execution_count": 151,
   "metadata": {
    "scrolled": true
   },
   "outputs": [
    {
     "data": {
      "text/plain": [
       "10"
      ]
     },
     "execution_count": 151,
     "metadata": {},
     "output_type": "execute_result"
    }
   ],
   "source": [
    "len(answ_0_10)"
   ]
  },
  {
   "cell_type": "code",
   "execution_count": null,
   "metadata": {},
   "outputs": [],
   "source": [
    "for i, (r, p, t) in enumerate(answ_50_428):\n",
    "    print(i + 50, t)\n",
    "    np.save(\"../1_stage_results/rows/rows_\" + str(i+50), r)\n",
    "    np.save(\"../1_stage_results/pvals/pvals_\" + str(i+50), p)"
   ]
  },
  {
   "cell_type": "code",
   "execution_count": 157,
   "metadata": {},
   "outputs": [
    {
     "data": {
      "text/plain": [
       "True"
      ]
     },
     "execution_count": 157,
     "metadata": {},
     "output_type": "execute_result"
    }
   ],
   "source": [
    "all(answ_0_10[2][0] == target_rows_list[3])"
   ]
  },
  {
   "cell_type": "code",
   "execution_count": 143,
   "metadata": {},
   "outputs": [
    {
     "data": {
      "text/plain": [
       "array([ True,  True,  True,  True,  True,  True,  True,  True, False,\n",
       "       False,  True,  True,  True,  True,  True,  True,  True, False,\n",
       "       False,  True,  True, False, False,  True, False, False, False,\n",
       "       False, False, False,  True, False, False, False, False,  True,\n",
       "        True,  True,  True, False, False, False, False, False, False,\n",
       "       False, False, False, False, False, False, False, False, False,\n",
       "       False, False, False, False,  True, False,  True, False, False,\n",
       "       False,  True, False, False, False, False, False, False, False,\n",
       "       False, False, False, False, False, False, False,  True,  True,\n",
       "        True, False,  True,  True,  True,  True, False, False, False,\n",
       "       False, False, False, False, False, False, False, False, False,\n",
       "       False, False, False, False, False,  True, False, False, False,\n",
       "       False, False, False, False, False, False,  True,  True, False,\n",
       "       False, False, False, False, False, False, False, False, False,\n",
       "       False, False, False, False, False, False, False,  True,  True,\n",
       "        True,  True,  True, False, False, False, False, False, False,\n",
       "       False, False,  True, False,  True,  True,  True,  True, False,\n",
       "        True, False, False, False,  True, False,  True,  True,  True,\n",
       "       False, False, False, False, False, False, False, False, False,\n",
       "       False, False, False,  True, False, False, False, False, False,\n",
       "       False, False, False, False, False, False, False, False, False,\n",
       "       False,  True, False, False, False, False, False, False, False,\n",
       "        True,  True, False, False,  True,  True, False, False, False,\n",
       "       False, False, False, False, False,  True,  True,  True,  True,\n",
       "       False, False,  True,  True,  True,  True,  True, False, False,\n",
       "       False, False, False, False, False, False, False, False,  True,\n",
       "       False, False, False, False, False, False, False, False, False,\n",
       "       False, False, False, False, False, False, False, False, False,\n",
       "       False, False, False, False, False, False, False, False, False,\n",
       "       False, False, False, False, False,  True, False, False, False,\n",
       "       False, False, False, False, False, False, False, False, False,\n",
       "       False, False, False, False, False, False, False, False,  True,\n",
       "       False, False, False, False, False, False, False, False, False,\n",
       "       False, False, False, False, False, False,  True, False,  True,\n",
       "       False,  True,  True, False, False, False, False,  True, False,\n",
       "       False, False, False,  True, False, False, False, False, False,\n",
       "        True, False, False, False,  True, False, False, False, False,\n",
       "       False, False, False, False, False,  True, False, False, False,\n",
       "       False, False, False, False,  True, False,  True, False,  True,\n",
       "       False, False, False, False, False, False, False, False, False,\n",
       "       False, False, False, False,  True,  True, False, False,  True,\n",
       "       False,  True, False, False, False,  True, False, False, False,\n",
       "       False,  True, False, False, False, False,  True,  True,  True,\n",
       "       False, False, False, False, False, False, False, False, False,\n",
       "       False, False, False, False, False, False,  True, False, False,\n",
       "       False,  True,  True, False, False, False, False, False,  True,\n",
       "       False, False, False, False, False, False, False, False, False,\n",
       "       False, False, False, False, False, False, False, False, False,\n",
       "       False, False, False, False, False, False, False, False, False,\n",
       "       False, False, False, False,  True,  True, False, False, False,\n",
       "       False, False, False, False, False, False, False, False, False,\n",
       "       False, False, False, False, False, False, False, False, False,\n",
       "       False, False, False, False, False, False, False, False, False,\n",
       "       False, False, False, False, False, False, False,  True, False,\n",
       "       False, False, False, False, False, False, False, False, False,\n",
       "       False, False,  True,  True, False], dtype=bool)"
      ]
     },
     "execution_count": 143,
     "metadata": {},
     "output_type": "execute_result"
    }
   ],
   "source": [
    "target_rows_list[2] == target_rows_list[3]"
   ]
  },
  {
   "cell_type": "code",
   "execution_count": null,
   "metadata": {
    "collapsed": true
   },
   "outputs": [],
   "source": []
  }
 ],
 "metadata": {
  "kernelspec": {
   "display_name": "Python [conda env:py35]",
   "language": "python",
   "name": "conda-env-py35-py"
  },
  "language_info": {
   "codemirror_mode": {
    "name": "ipython",
    "version": 3
   },
   "file_extension": ".py",
   "mimetype": "text/x-python",
   "name": "python",
   "nbconvert_exporter": "python",
   "pygments_lexer": "ipython3",
   "version": "3.5.2"
  }
 },
 "nbformat": 4,
 "nbformat_minor": 2
}
