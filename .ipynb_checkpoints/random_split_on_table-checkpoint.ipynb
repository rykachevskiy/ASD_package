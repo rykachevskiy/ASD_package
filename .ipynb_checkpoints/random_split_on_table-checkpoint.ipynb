{
 "cells": [
  {
   "cell_type": "code",
   "execution_count": 1,
   "metadata": {
    "collapsed": true
   },
   "outputs": [],
   "source": [
    "from lib.reader import read_alleles_to_num\n",
    "import numpy as np\n",
    "import os\n",
    "\n",
    "from sklearn.model_selection import LeaveOneOut\n",
    "\n",
    "import argparse\n",
    "\n",
    "from lib.config import *\n",
    "import lib.row_cheker as rch\n",
    "\n",
    "import time"
   ]
  },
  {
   "cell_type": "code",
   "execution_count": 2,
   "metadata": {
    "collapsed": true
   },
   "outputs": [],
   "source": [
    "import multiprocessing\n",
    "import pickle"
   ]
  },
  {
   "cell_type": "code",
   "execution_count": 7,
   "metadata": {
    "collapsed": true
   },
   "outputs": [],
   "source": [
    "from importlib import reload"
   ]
  },
  {
   "cell_type": "code",
   "execution_count": 5,
   "metadata": {
    "collapsed": true
   },
   "outputs": [],
   "source": [
    "rch = reload(rch)"
   ]
  },
  {
   "cell_type": "code",
   "execution_count": 3,
   "metadata": {
    "collapsed": true
   },
   "outputs": [],
   "source": [
    "np.random.seed(239)\n",
    "\n",
    "parser = argparse.ArgumentParser()\n",
    "parser.add_argument('-i', type=str, dest='input_table_path')\n",
    "parser.add_argument('-o', type=str, dest='output_table_path')\n",
    "parser.add_argument('-n', type=int, dest='rows_number', default=500)\n",
    "args = parser.parse_args([\"-i\", \"../data_as_npy.npy\", \"-o\", \"../res\"])"
   ]
  },
  {
   "cell_type": "code",
   "execution_count": 4,
   "metadata": {},
   "outputs": [
    {
     "data": {
      "text/plain": [
       "Namespace(input_table_path='../data_as_npy.npy', output_table_path='../res', rows_number=500)"
      ]
     },
     "execution_count": 4,
     "metadata": {},
     "output_type": "execute_result"
    }
   ],
   "source": [
    "args"
   ]
  },
  {
   "cell_type": "code",
   "execution_count": 5,
   "metadata": {},
   "outputs": [
    {
     "name": "stdout",
     "output_type": "stream",
     "text": [
      "(428, 4382202)\n",
      "Starting on original table...\n"
     ]
    }
   ],
   "source": [
    "table = np.load(args.input_table_path)\n",
    "print(table.shape)\n",
    "case_control = np.array([0] * 407 + [1] * 21)\n",
    "\n",
    "print(\"Starting on original table...\")\n",
    "#table_2x3 = rch.check_initial_table(table, case_control.astype(bool))\n",
    "table_2x3 = np.load(\"../table_2x3.npy\")\n",
    "assert all(table_2x3.sum(1).sum(1) == 428)"
   ]
  },
  {
   "cell_type": "code",
   "execution_count": 8,
   "metadata": {
    "collapsed": true
   },
   "outputs": [],
   "source": [
    "np.save(\"../table_2x3\", table_2x3)"
   ]
  },
  {
   "cell_type": "code",
   "execution_count": 9,
   "metadata": {},
   "outputs": [
    {
     "data": {
      "text/plain": [
       "(4382202, 2, 3)"
      ]
     },
     "execution_count": 9,
     "metadata": {},
     "output_type": "execute_result"
    }
   ],
   "source": [
    "table_2x3.shape"
   ]
  },
  {
   "cell_type": "code",
   "execution_count": 10,
   "metadata": {
    "collapsed": true
   },
   "outputs": [],
   "source": [
    "table = table.astype(int)"
   ]
  },
  {
   "cell_type": "code",
   "execution_count": 13,
   "metadata": {
    "collapsed": true
   },
   "outputs": [],
   "source": [
    "loo = LeaveOneOut()\n",
    "\n",
    "target_rows_list = []\n",
    "target_pvals_list = []\n",
    "\n",
    "chi2_hash = pickle.load(open(\"../chi2_hash_9\",  'rb'))"
   ]
  },
  {
   "cell_type": "code",
   "execution_count": 14,
   "metadata": {},
   "outputs": [
    {
     "data": {
      "text/plain": [
       "319738"
      ]
     },
     "execution_count": 14,
     "metadata": {},
     "output_type": "execute_result"
    }
   ],
   "source": [
    "len(chi2_hash)"
   ]
  },
  {
   "cell_type": "code",
   "execution_count": 23,
   "metadata": {
    "collapsed": true
   },
   "outputs": [],
   "source": [
    "def do_all_for_single_split(index, table_2x3, case_control, table, chi2_hash, row_number):\n",
    "    train_index, test_index = index[0], index[1]\n",
    "    beg = time.time()\n",
    "    rows, pvals = rch.check_loo_table(table_2x3,\n",
    "                                      case_control[test_index],\n",
    "                                      table[test_index].flatten(),\n",
    "                                      chi2_hash,\n",
    "                                      False,                                  \n",
    "                                      cut=args.rows_number)\n",
    "    end = time.time()\n",
    "    #print(\"Done with index {} in {} seconds\".format(test_index, end - beg))\n",
    "    \n",
    "    return rows, pvals, end - beg"
   ]
  },
  {
   "cell_type": "code",
   "execution_count": 59,
   "metadata": {},
   "outputs": [
    {
     "name": "stderr",
     "output_type": "stream",
     "text": [
      "100%|██████████| 4382202/4382202 [15:35<00:00, 4685.97it/s]\n",
      "  0%|          | 315/4382202 [00:00<23:12, 3146.18it/s]"
     ]
    },
    {
     "name": "stdout",
     "output_type": "stream",
     "text": [
      "Done with index [3] in 935.8729054927826 seconds\n"
     ]
    },
    {
     "name": "stderr",
     "output_type": "stream",
     "text": [
      "100%|██████████| 4382202/4382202 [16:11<00:00, 4509.68it/s]\n",
      "  0%|          | 318/4382202 [00:00<23:02, 3169.33it/s]"
     ]
    },
    {
     "name": "stdout",
     "output_type": "stream",
     "text": [
      "Done with index [4] in 972.4523255825043 seconds\n"
     ]
    },
    {
     "name": "stderr",
     "output_type": "stream",
     "text": [
      "100%|██████████| 4382202/4382202 [15:41<00:00, 4653.02it/s]\n",
      "  0%|          | 311/4382202 [00:00<23:31, 3104.87it/s]"
     ]
    },
    {
     "name": "stdout",
     "output_type": "stream",
     "text": [
      "Done with index [5] in 942.4824831485748 seconds\n"
     ]
    },
    {
     "name": "stderr",
     "output_type": "stream",
     "text": [
      "100%|██████████| 4382202/4382202 [15:26<00:00, 4731.18it/s]\n",
      "  0%|          | 688/4382202 [00:00<10:37, 6874.01it/s]"
     ]
    },
    {
     "name": "stdout",
     "output_type": "stream",
     "text": [
      "Done with index [6] in 926.9220147132874 seconds\n"
     ]
    },
    {
     "name": "stderr",
     "output_type": "stream",
     "text": [
      "100%|██████████| 4382202/4382202 [15:19<00:00, 4763.82it/s]\n",
      "  0%|          | 550/4382202 [00:00<13:17, 5496.24it/s]"
     ]
    },
    {
     "name": "stdout",
     "output_type": "stream",
     "text": [
      "Done with index [7] in 920.5783610343933 seconds\n"
     ]
    },
    {
     "name": "stderr",
     "output_type": "stream",
     "text": [
      "100%|██████████| 4382202/4382202 [15:01<00:00, 4861.44it/s]\n",
      "  0%|          | 308/4382202 [00:00<23:43, 3078.76it/s]"
     ]
    },
    {
     "name": "stdout",
     "output_type": "stream",
     "text": [
      "Done with index [8] in 902.1052443981171 seconds\n"
     ]
    },
    {
     "name": "stderr",
     "output_type": "stream",
     "text": [
      "100%|██████████| 4382202/4382202 [15:09<00:00, 4816.30it/s]\n"
     ]
    },
    {
     "name": "stdout",
     "output_type": "stream",
     "text": [
      "Done with index [9] in 910.5523960590363 seconds\n"
     ]
    }
   ],
   "source": [
    "for (train_index, test_index) in train_test_indexes[3:10]:\n",
    "    beg = time.time()\n",
    "    rows, pvals = rch.check_loo_table(table_2x3,\n",
    "                                      case_control[test_index],\n",
    "                                      table[test_index].flatten(),\n",
    "                                      chi2_hash,\n",
    "                                      cut=args.rows_number)\n",
    "    \n",
    "    \n",
    "    \n",
    "    target_rows_list.append(rows)\n",
    "    target_pvals_list.append(pvals)\n",
    "    end = time.time()\n",
    "    print(\"Done with index {} in {} seconds\".format(test_index, end - beg))\n",
    "    \n",
    "    np.save(\"../1_stage_results/rows/rows_\" + str(test_index[0]), rows)\n",
    "    np.save(\"../1_stage_results/pvals/pvals_\" + str(test_index[0]), pvals)"
   ]
  },
  {
   "cell_type": "code",
   "execution_count": null,
   "metadata": {
    "collapsed": true,
    "scrolled": true
   },
   "outputs": [],
   "source": [
    "target_rows = np.concatenate([x.reshape(1,-1) for x in target_rows_list], 0)\n",
    "target_pvals = np.concatenate([x.reshape(1,-1) for x in target_pvals_list], 0)\n",
    "\n",
    "print(target_rows.shape)\n",
    "\n",
    "np.save(args.output_table_path, target_rows)\n",
    "np.save(args.output_table_path+\"_pvals\", target_pvals)"
   ]
  },
  {
   "cell_type": "code",
   "execution_count": 27,
   "metadata": {
    "collapsed": true
   },
   "outputs": [],
   "source": [
    "import pickle"
   ]
  },
  {
   "cell_type": "code",
   "execution_count": 60,
   "metadata": {},
   "outputs": [
    {
     "data": {
      "text/plain": [
       "319738"
      ]
     },
     "execution_count": 60,
     "metadata": {},
     "output_type": "execute_result"
    }
   ],
   "source": [
    "len(chi2_hash)"
   ]
  },
  {
   "cell_type": "code",
   "execution_count": 44,
   "metadata": {},
   "outputs": [
    {
     "data": {
      "text/plain": [
       "254387"
      ]
     },
     "execution_count": 44,
     "metadata": {},
     "output_type": "execute_result"
    }
   ],
   "source": [
    "len(chi2_hash)"
   ]
  },
  {
   "cell_type": "code",
   "execution_count": null,
   "metadata": {
    "collapsed": true
   },
   "outputs": [],
   "source": []
  },
  {
   "cell_type": "code",
   "execution_count": 61,
   "metadata": {
    "collapsed": true
   },
   "outputs": [],
   "source": [
    "pickle.dump(chi2_hash, open(\"../1_stage_results/chi2_hash_9\", 'wb'))"
   ]
  },
  {
   "cell_type": "code",
   "execution_count": null,
   "metadata": {
    "collapsed": true
   },
   "outputs": [],
   "source": []
  },
  {
   "cell_type": "code",
   "execution_count": 53,
   "metadata": {
    "collapsed": true
   },
   "outputs": [],
   "source": [
    "np.save(\"../1_stage_results/rows/rows_1\", target_rows_list[1])"
   ]
  },
  {
   "cell_type": "code",
   "execution_count": null,
   "metadata": {
    "collapsed": true
   },
   "outputs": [],
   "source": [
    "np.save(\"../1_stage_results/pvals/pvals_1\", target_pvals_list[1])"
   ]
  },
  {
   "cell_type": "code",
   "execution_count": 15,
   "metadata": {
    "collapsed": true
   },
   "outputs": [],
   "source": [
    "train_test_indexes = [[x,y] for x,y in loo.split(table)]"
   ]
  },
  {
   "cell_type": "code",
   "execution_count": null,
   "metadata": {
    "collapsed": true
   },
   "outputs": [],
   "source": []
  },
  {
   "cell_type": "markdown",
   "metadata": {},
   "source": [
    "## test MP"
   ]
  },
  {
   "cell_type": "code",
   "execution_count": null,
   "metadata": {
    "collapsed": true
   },
   "outputs": [],
   "source": [
    "from multiprocessing import "
   ]
  },
  {
   "cell_type": "code",
   "execution_count": 29,
   "metadata": {},
   "outputs": [
    {
     "name": "stderr",
     "output_type": "stream",
     "text": [
      "100%|██████████| 4382202/4382202 [38:16<00:00, 1908.28it/s]\n",
      "100%|██████████| 4382202/4382202 [38:34<00:00, 1893.62it/s]\n",
      " 95%|█████████▌| 4172709/4382202 [38:46<01:56, 1793.78it/s]\n",
      "100%|██████████| 4382202/4382202 [38:48<00:00, 1881.94it/s]\n",
      "100%|██████████| 4382202/4382202 [38:54<00:00, 1877.41it/s]\n",
      "100%|██████████| 4382202/4382202 [38:59<00:00, 1873.38it/s]\n",
      "100%|██████████| 4382202/4382202 [39:01<00:00, 1871.71it/s]\n",
      "100%|██████████| 4382202/4382202 [39:12<00:00, 1862.51it/s]\n",
      "100%|██████████| 4382202/4382202 [39:42<00:00, 1839.30it/s]\n",
      "100%|██████████| 4382202/4382202 [40:27<00:00, 1805.54it/s]\n",
      "100%|██████████| 4382202/4382202 [40:39<00:00, 1796.40it/s]\n",
      "100%|██████████| 4382202/4382202 [40:42<00:00, 1794.51it/s]\n",
      "100%|██████████| 4382202/4382202 [40:43<00:00, 1793.72it/s]\n",
      "100%|██████████| 4382202/4382202 [40:48<00:00, 1789.63it/s]\n",
      "100%|██████████| 4382202/4382202 [40:49<00:00, 1788.97it/s]\n",
      "100%|██████████| 4382202/4382202 [40:51<00:00, 1787.37it/s]\n",
      "100%|██████████| 4382202/4382202 [41:05<00:00, 1777.57it/s]\n",
      "100%|██████████| 4382202/4382202 [41:09<00:00, 1774.58it/s]\n",
      "100%|██████████| 4382202/4382202 [41:10<00:00, 1773.77it/s]\n",
      "100%|██████████| 4382202/4382202 [41:10<00:00, 1773.63it/s]\n",
      "100%|██████████| 4382202/4382202 [41:15<00:00, 1769.87it/s]\n",
      "100%|██████████| 4382202/4382202 [41:18<00:00, 1767.77it/s]\n",
      "100%|██████████| 4382202/4382202 [41:27<00:00, 1761.76it/s]\n",
      "100%|██████████| 4382202/4382202 [41:33<00:00, 1757.64it/s]\n",
      "100%|██████████| 4382202/4382202 [41:35<00:00, 1756.30it/s]\n",
      "100%|██████████| 4382202/4382202 [41:39<00:00, 1752.91it/s]\n",
      "100%|██████████| 4382202/4382202 [41:40<00:00, 1752.40it/s]\n",
      "100%|██████████| 4382202/4382202 [41:42<00:00, 1751.17it/s]\n",
      "100%|██████████| 4382202/4382202 [41:43<00:00, 1750.69it/s]\n",
      "100%|██████████| 4382202/4382202 [41:46<00:00, 1748.32it/s]\n",
      "100%|██████████| 4382202/4382202 [41:46<00:00, 1748.07it/s]\n",
      "100%|██████████| 4382202/4382202 [41:48<00:00, 1746.91it/s]\n",
      "100%|██████████| 4382202/4382202 [38:05<00:00, 1917.26it/s]\n",
      "100%|██████████| 4382202/4382202 [38:08<00:00, 1914.99it/s]\n",
      "100%|██████████| 4382202/4382202 [37:59<00:00, 1922.34it/s]\n",
      "100%|██████████| 4382202/4382202 [38:18<00:00, 1906.33it/s]\n",
      "100%|██████████| 4382202/4382202 [38:28<00:00, 1898.56it/s]\n",
      "100%|██████████| 4382202/4382202 [38:17<00:00, 1906.97it/s]\n",
      "100%|██████████| 4382202/4382202 [37:23<00:00, 1953.68it/s]\n",
      "100%|██████████| 4382202/4382202 [37:36<00:00, 1942.44it/s]\n",
      "100%|██████████| 4382202/4382202 [39:52<00:00, 1831.40it/s]\n",
      "100%|██████████| 4382202/4382202 [37:49<00:00, 1930.79it/s]\n",
      "100%|██████████| 4382202/4382202 [40:00<00:00, 1825.80it/s]\n",
      "100%|██████████| 4382202/4382202 [40:07<00:00, 1820.28it/s]\n",
      "100%|██████████| 4382202/4382202 [39:07<00:00, 1866.53it/s]\n",
      "100%|██████████| 4382202/4382202 [39:47<00:00, 1835.23it/s]\n",
      "100%|██████████| 4382202/4382202 [40:08<00:00, 1819.37it/s]\n",
      "100%|██████████| 4382202/4382202 [39:54<00:00, 1830.48it/s]\n",
      "100%|██████████| 4382202/4382202 [40:11<00:00, 1817.18it/s]\n",
      "100%|██████████| 4382202/4382202 [39:57<00:00, 1828.17it/s]\n",
      "100%|██████████| 4382202/4382202 [40:11<00:00, 1817.33it/s]\n",
      "100%|██████████| 4382202/4382202 [40:22<00:00, 1808.85it/s]\n",
      "100%|██████████| 4382202/4382202 [40:15<00:00, 1814.18it/s]\n",
      "100%|██████████| 4382202/4382202 [40:27<00:00, 1804.96it/s]\n",
      "100%|██████████| 4382202/4382202 [40:43<00:00, 1793.43it/s]\n",
      "100%|██████████| 4382202/4382202 [40:33<00:00, 1800.66it/s]\n",
      "100%|██████████| 4382202/4382202 [40:44<00:00, 1792.82it/s]\n",
      "100%|██████████| 4382202/4382202 [40:48<00:00, 1789.92it/s]\n",
      "100%|██████████| 4382202/4382202 [40:47<00:00, 1790.39it/s]\n",
      "100%|██████████| 4382202/4382202 [40:54<00:00, 1785.37it/s]\n",
      "100%|██████████| 4382202/4382202 [40:47<00:00, 1790.83it/s]\n",
      "100%|██████████| 4382202/4382202 [40:54<00:00, 1785.09it/s]\n",
      "100%|██████████| 4382202/4382202 [40:55<00:00, 1784.95it/s]\n",
      "100%|██████████| 4382202/4382202 [41:18<00:00, 1768.39it/s]\n",
      "100%|██████████| 4382202/4382202 [1:28:52<00:00, 821.74it/s]\n",
      "100%|██████████| 4382202/4382202 [1:29:25<00:00, 816.80it/s]\n",
      "100%|██████████| 4382202/4382202 [1:29:17<00:00, 817.89it/s]\n",
      "100%|██████████| 4382202/4382202 [1:29:09<00:00, 819.25it/s]\n",
      "100%|██████████| 4382202/4382202 [1:29:08<00:00, 819.34it/s]\n",
      "100%|██████████| 4382202/4382202 [1:29:29<00:00, 816.07it/s]\n"
     ]
    }
   ],
   "source": [
    "pool = multiprocessing.Pool(32)"
   ]
  },
  {
   "cell_type": "code",
   "execution_count": 30,
   "metadata": {
    "collapsed": true
   },
   "outputs": [],
   "source": [
    "def g(x):\n",
    "    return do_all_for_single_split(x, table_2x3, case_control, table, chi2_hash, args.rows_number)"
   ]
  },
  {
   "cell_type": "code",
   "execution_count": 45,
   "metadata": {
    "collapsed": true
   },
   "outputs": [],
   "source": [
    "pool.close()"
   ]
  },
  {
   "cell_type": "code",
   "execution_count": null,
   "metadata": {
    "collapsed": true,
    "scrolled": false
   },
   "outputs": [],
   "source": [
    "answ_0_64 = pool.map(g, train_test_indexes[:64])"
   ]
  },
  {
   "cell_type": "code",
   "execution_count": null,
   "metadata": {
    "collapsed": true
   },
   "outputs": [],
   "source": [
    "answ_64_ = pool.map(g, train_test_indexes[64:])"
   ]
  },
  {
   "cell_type": "code",
   "execution_count": null,
   "metadata": {
    "collapsed": true
   },
   "outputs": [],
   "source": [
    "answ_10_428"
   ]
  },
  {
   "cell_type": "code",
   "execution_count": 151,
   "metadata": {
    "scrolled": true
   },
   "outputs": [
    {
     "data": {
      "text/plain": [
       "10"
      ]
     },
     "execution_count": 151,
     "metadata": {},
     "output_type": "execute_result"
    }
   ],
   "source": [
    "len(answ_0_10)"
   ]
  },
  {
   "cell_type": "code",
   "execution_count": null,
   "metadata": {},
   "outputs": [
    {
     "name": "stdout",
     "output_type": "stream",
     "text": [
      "64 2449.892482280731\n",
      "65 2395.1569764614105\n",
      "66 2455.095027446747\n",
      "67 2329.769576072693\n",
      "68 2394.0045082569122\n",
      "69 2442.8979539871216\n",
      "70 2315.367434024811\n",
      "71 2289.6382389068604\n",
      "72 2344.7763950824738\n",
      "73 2327.6323721408844\n",
      "74 2401.3183856010437\n",
      "75 2446.5277774333954\n",
      "76 2297.5950922966003\n",
      "77 2286.7692651748657\n",
      "78 2373.7509956359863\n",
      "79 2340.3492641448975\n",
      "80 2408.6269178390503\n",
      "81 2337.512938261032\n",
      "82 2428.404750585556\n",
      "83 2409.7876722812653\n",
      "84 2446.666923522949\n",
      "85 2444.422253847122\n",
      "86 2412.7132420539856\n",
      "87 2474.677628993988\n",
      "88 2342.659079551697\n",
      "89 2300.0417976379395\n",
      "90 2320.7178778648376\n",
      "91 2470.836761236191\n",
      "92 2412.415153503418\n",
      "93 2422.7323808670044\n",
      "94 2466.7219190597534\n",
      "95 2398.2065184116364\n",
      "96 2470.2975363731384\n",
      "97 2477.3248760700226\n",
      "98 2428.9790551662445\n",
      "99 2494.863626718521\n",
      "100 2480.321272611618\n",
      "101 2444.629438638687\n",
      "102 2492.233320236206\n",
      "103 2496.3695635795593\n",
      "104 2445.5576469898224\n",
      "105 2457.790130138397\n",
      "106 2494.592221736908\n",
      "107 2479.2668828964233\n",
      "108 2493.583800792694\n",
      "109 2472.0464704036713\n",
      "110 2348.9343495368958\n",
      "111 2358.442079305649\n",
      "112 2507.856254339218\n",
      "113 2456.0588245391846\n",
      "114 2478.6443922519684\n",
      "115 2501.2247989177704\n",
      "116 2455.6876549720764\n",
      "117 2465.0427939891815\n",
      "118 2354.0639066696167\n",
      "119 2309.354953765869\n",
      "120 2363.3458375930786\n",
      "121 2383.9143028259277\n",
      "122 2299.081643819809\n",
      "123 2377.7746896743774\n",
      "124 2508.3349347114563\n",
      "125 2456.324179649353\n",
      "126 2474.736841201782\n",
      "127 2502.081054210663\n",
      "128 2434.7619421482086\n",
      "129 2461.03834939003\n",
      "130 2503.7719552516937\n",
      "131 2449.4908821582794\n",
      "132 2499.9925343990326\n",
      "133 2504.4801108837128\n",
      "134 2448.8942482471466\n",
      "135 2510.848605632782\n",
      "136 2509.949807167053\n",
      "137 2448.183109521866\n",
      "138 2506.2282140254974\n",
      "139 2488.680024623871\n",
      "140 2416.619265794754\n",
      "141 2502.5343492031097\n",
      "142 2335.3240582942963\n",
      "143 2280.7045941352844\n",
      "144 2354.8205330371857\n",
      "145 2453.13312625885\n",
      "146 2270.860024213791\n",
      "147 2470.297930955887\n",
      "148 2471.8667752742767\n",
      "149 2423.788277864456\n",
      "150 2460.7050890922546\n",
      "151 2450.746760368347\n",
      "152 2257.2236363887787\n",
      "153 2308.639716386795\n",
      "154 2440.8483457565308\n",
      "155 2244.309669971466\n",
      "156 2452.5637679100037\n",
      "157 2443.402328968048\n",
      "158 2388.958398103714\n",
      "159 2423.5134954452515\n",
      "160 2404.0601949691772\n",
      "161 2333.108072757721\n",
      "162 2228.764266729355\n",
      "163 2419.8013253211975\n",
      "164 2406.398594856262\n",
      "165 2284.9872610569\n",
      "166 2264.7414231300354\n",
      "167 2227.7843499183655\n",
      "168 2411.504322528839\n",
      "169 2255.964584827423\n",
      "170 2274.3554468154907\n",
      "171 2229.2178661823273\n",
      "172 2379.7122614383698\n",
      "173 2396.2459166049957\n",
      "174 2236.462240219116\n",
      "175 2297.698818922043\n",
      "176 2266.7175579071045\n",
      "177 2249.922161579132\n",
      "178 2293.932227373123\n",
      "179 2278.040517091751\n",
      "180 2435.574113368988\n",
      "181 2411.0510547161102\n",
      "182 2246.505692958832\n",
      "183 2384.961158514023\n",
      "184 2227.7712960243225\n",
      "185 2273.994417667389\n",
      "186 2199.6820731163025\n",
      "187 2412.9700310230255\n",
      "188 2332.002219438553\n",
      "189 2241.4489328861237\n",
      "190 2408.619326353073\n",
      "191 2331.828129053116\n",
      "192 2360.990259170532\n",
      "193 2283.6813349723816\n",
      "194 2437.7023437023163\n",
      "195 2358.1625607013702\n",
      "196 2246.3809809684753\n",
      "197 2235.57292842865\n",
      "198 2396.794949054718\n",
      "199 2361.483850955963\n",
      "200 2346.263411283493\n",
      "201 2319.2913546562195\n",
      "202 2390.2571523189545\n",
      "203 2415.8803367614746\n",
      "204 2365.654288291931\n",
      "205 2409.164321422577\n",
      "206 2381.199342250824\n",
      "207 2366.376158952713\n",
      "208 2277.6896748542786\n",
      "209 2244.5458748340607\n",
      "210 2244.036120891571\n",
      "211 2268.911046743393\n",
      "212 2256.8255207538605\n",
      "213 2399.893243074417\n",
      "214 2374.739651441574\n",
      "215 2335.5805037021637\n",
      "216 2367.8468165397644\n",
      "217 2254.925451040268\n",
      "218 2360.818093061447\n",
      "219 2202.329406261444\n",
      "220 2440.820827484131\n",
      "221 2437.262112379074\n",
      "222 2317.84264588356\n",
      "223 2442.39990067482\n",
      "224 2375.1475882530212\n",
      "225 2398.7644889354706\n",
      "226 2359.13054728508\n",
      "227 2241.7130405902863\n",
      "228 2407.198627948761\n",
      "229 2405.433165073395\n",
      "230 2277.666712284088\n",
      "231 2286.2792797088623\n",
      "232 2386.857369661331\n",
      "233 2322.491378545761\n",
      "234 2383.4278383255005\n",
      "235 2423.318722009659\n",
      "236 2406.4688155651093\n",
      "237 2211.20183300972\n",
      "238 2460.47660279274\n",
      "239 2385.7081170082092\n",
      "240 2380.651589155197\n",
      "241 2446.677793741226\n",
      "242 2433.5174100399017\n",
      "243 2348.2656331062317\n",
      "244 2407.880190849304\n",
      "245 2356.40433549881\n",
      "246 2203.6804444789886\n",
      "247 2423.044557571411\n",
      "248 2378.8837127685547\n",
      "249 2375.2518293857574\n",
      "250 2435.7155241966248\n",
      "251 2383.5738785266876\n",
      "252 2329.8946118354797\n",
      "253 2459.5349428653717\n",
      "254 2409.9158022403717\n",
      "255 2259.624324798584\n",
      "256 2149.1881940364838\n",
      "257 2044.3392601013184\n",
      "258 1978.5225656032562\n",
      "259 2181.4158668518066\n",
      "260 2138.9044625759125\n",
      "261 1954.1499645709991\n",
      "262 2286.3000781536102\n",
      "263 2115.7113270759583\n",
      "264 2072.1796696186066\n",
      "265 2121.696106672287\n",
      "266 2024.0818600654602\n",
      "267 1984.9445865154266\n",
      "268 2252.5656328201294\n",
      "269 2003.7173767089844\n",
      "270 1957.478634595871\n",
      "271 2072.4383804798126\n",
      "272 1998.6474967002869\n",
      "273 1950.995742559433\n",
      "274 2253.263558626175\n",
      "275 2018.2343242168427\n",
      "276 1933.8493523597717\n",
      "277 2249.900639772415\n",
      "278 2104.5846695899963\n",
      "279 2049.191510915756\n",
      "280 2202.7845911979675\n",
      "281 2123.528941631317\n",
      "282 2025.9408767223358\n",
      "283 2233.9736692905426\n",
      "284 2116.1324610710144\n",
      "285 2035.841875076294\n",
      "286 2074.941185951233\n",
      "287 2143.939777612686\n",
      "288 2027.0024576187134\n",
      "289 2099.1723775863647\n",
      "290 2013.1313145160675\n",
      "291 1947.40775847435\n",
      "292 2108.2513041496277\n",
      "293 1992.9772264957428\n",
      "294 2042.7324481010437\n",
      "295 2094.4590017795563\n",
      "296 2025.1198115348816\n",
      "297 1950.5417630672455\n",
      "298 2146.387900829315\n",
      "299 2042.8533291816711\n",
      "300 1962.8614599704742\n",
      "301 2197.7443425655365\n",
      "302 2005.1368520259857\n",
      "303 1958.428452014923\n",
      "304 2200.4369790554047\n",
      "305 2088.089358329773\n",
      "306 2017.881948709488\n",
      "307 2104.3415200710297\n",
      "308 2128.9924850463867\n",
      "309 2068.7164812088013\n",
      "310 2245.9650242328644\n",
      "311 2123.9503915309906\n",
      "312 2059.681180000305\n",
      "313 2073.6859924793243\n",
      "314 2053.32168340683\n",
      "315 1950.6489098072052\n",
      "316 2227.2028052806854\n",
      "317 2090.553894996643\n",
      "318 1942.1143321990967\n",
      "319 2219.2442831993103\n",
      "320 2099.973810195923\n",
      "321 2041.1834762096405\n",
      "322 2189.2207581996918\n",
      "323 2105.2528805732727\n",
      "324 2049.829097032547\n",
      "325 2250.943297147751\n",
      "326 1987.0490064620972\n",
      "327 2013.6613237857819\n",
      "328 2240.0919749736786\n",
      "329 2108.6121945381165\n",
      "330 2040.443929195404\n",
      "331 2217.686712026596\n",
      "332 2151.5689272880554\n",
      "333 2006.619657754898\n",
      "334 2137.6920421123505\n",
      "335 2097.145472049713\n",
      "336 2024.1326324939728\n",
      "337 2225.8390085697174\n",
      "338 2067.3388860225677\n",
      "339 2045.6962406635284\n",
      "340 2191.7793295383453\n",
      "341 2110.413460969925\n",
      "342 2042.759274482727\n",
      "343 2201.294667482376\n",
      "344 2134.604869365692\n",
      "345 2035.9232642650604\n",
      "346 2251.640298604965\n",
      "347 2136.75670337677\n",
      "348 2029.8306016921997\n",
      "349 2261.8322150707245\n",
      "350 2139.134550333023\n",
      "351 2043.5877902507782\n",
      "352 1766.4183793067932\n",
      "353 1543.2375028133392\n",
      "354 1653.191044330597\n",
      "355 1731.5941061973572\n",
      "356 1545.1325759887695\n",
      "357 1503.7698075771332\n",
      "358 1716.8040311336517\n",
      "359 1521.1195118427277\n",
      "360 1484.9868831634521\n",
      "361 1854.774304151535\n",
      "362 1663.8080151081085\n",
      "363 1537.6113595962524\n",
      "364 1691.5476894378662\n",
      "365 1555.1394159793854\n",
      "366 1494.4574973583221\n",
      "367 1684.7466340065002\n",
      "368 1702.2157108783722\n",
      "369 1559.939927816391\n",
      "370 1688.4091374874115\n",
      "371 1555.0802631378174\n",
      "372 1476.4748375415802\n",
      "373 1772.4793636798859\n",
      "374 1627.1502075195312\n",
      "375 1513.6782882213593\n",
      "376 1806.852398633957\n",
      "377 1676.8201773166656\n",
      "378 1483.5376019477844\n",
      "379 1674.1537461280823\n",
      "380 1535.8882710933685\n",
      "381 1470.7001702785492\n",
      "382 1686.6065335273743\n",
      "383 1535.8244168758392\n",
      "384 1446.989688873291\n",
      "385 1678.0098011493683\n",
      "386 1564.5324783325195\n",
      "387 1460.7673044204712\n",
      "388 1757.051263332367\n",
      "389 1662.870693206787\n",
      "390 1385.9221622943878\n",
      "391 1650.6248626708984\n",
      "392 1531.802710533142\n",
      "393 1464.6496522426605\n",
      "394 1784.6716997623444\n",
      "395 1657.0070221424103\n",
      "396 1438.2347090244293\n",
      "397 1774.3789956569672\n",
      "398 1661.6411056518555\n",
      "399 1421.3106853961945\n",
      "400 1720.2702980041504\n",
      "401 1557.712972164154\n",
      "402 1416.6622107028961\n",
      "403 1742.0150396823883\n",
      "404 1638.035437822342\n",
      "405 1376.5722913742065\n",
      "406 1709.168650150299\n",
      "407 6803.959253072739\n",
      "408 5507.557978630066\n",
      "409 7630.570880174637\n",
      "410 5527.675397157669\n",
      "411 5365.965774536133\n",
      "412 7631.545782804489\n",
      "413 5493.673500061035\n",
      "414 5333.678030490875\n",
      "415 7607.119539737701\n",
      "416 5502.171793460846\n",
      "417 5349.905357122421\n",
      "418 7560.200781106949\n",
      "419 5475.162291049957\n",
      "420 5358.746493339539\n",
      "421 7537.707954883575\n",
      "422 5537.690257549286\n",
      "423 5349.264018058777\n",
      "424 7545.024223804474\n",
      "425 5505.232423067093\n",
      "426 5370.661421060562\n",
      "427 7532.213677883148\n"
     ]
    }
   ],
   "source": [
    "for i, (r, p, t) in enumerate(answ_64_):\n",
    "    print(i + 64, t)\n",
    "    np.save(\"../1_stage_results/rows/rows_\" + str(i + 64), r)\n",
    "    np.save(\"../1_stage_results/pvals/pvals_\" + str(i + 64), p)"
   ]
  },
  {
   "cell_type": "code",
   "execution_count": 157,
   "metadata": {},
   "outputs": [
    {
     "data": {
      "text/plain": [
       "True"
      ]
     },
     "execution_count": 157,
     "metadata": {},
     "output_type": "execute_result"
    }
   ],
   "source": [
    "all(answ_0_10[2][0] == target_rows_list[3])"
   ]
  },
  {
   "cell_type": "code",
   "execution_count": 143,
   "metadata": {
    "scrolled": true
   },
   "outputs": [
    {
     "data": {
      "text/plain": [
       "array([ True,  True,  True,  True,  True,  True,  True,  True, False,\n",
       "       False,  True,  True,  True,  True,  True,  True,  True, False,\n",
       "       False,  True,  True, False, False,  True, False, False, False,\n",
       "       False, False, False,  True, False, False, False, False,  True,\n",
       "        True,  True,  True, False, False, False, False, False, False,\n",
       "       False, False, False, False, False, False, False, False, False,\n",
       "       False, False, False, False,  True, False,  True, False, False,\n",
       "       False,  True, False, False, False, False, False, False, False,\n",
       "       False, False, False, False, False, False, False,  True,  True,\n",
       "        True, False,  True,  True,  True,  True, False, False, False,\n",
       "       False, False, False, False, False, False, False, False, False,\n",
       "       False, False, False, False, False,  True, False, False, False,\n",
       "       False, False, False, False, False, False,  True,  True, False,\n",
       "       False, False, False, False, False, False, False, False, False,\n",
       "       False, False, False, False, False, False, False,  True,  True,\n",
       "        True,  True,  True, False, False, False, False, False, False,\n",
       "       False, False,  True, False,  True,  True,  True,  True, False,\n",
       "        True, False, False, False,  True, False,  True,  True,  True,\n",
       "       False, False, False, False, False, False, False, False, False,\n",
       "       False, False, False,  True, False, False, False, False, False,\n",
       "       False, False, False, False, False, False, False, False, False,\n",
       "       False,  True, False, False, False, False, False, False, False,\n",
       "        True,  True, False, False,  True,  True, False, False, False,\n",
       "       False, False, False, False, False,  True,  True,  True,  True,\n",
       "       False, False,  True,  True,  True,  True,  True, False, False,\n",
       "       False, False, False, False, False, False, False, False,  True,\n",
       "       False, False, False, False, False, False, False, False, False,\n",
       "       False, False, False, False, False, False, False, False, False,\n",
       "       False, False, False, False, False, False, False, False, False,\n",
       "       False, False, False, False, False,  True, False, False, False,\n",
       "       False, False, False, False, False, False, False, False, False,\n",
       "       False, False, False, False, False, False, False, False,  True,\n",
       "       False, False, False, False, False, False, False, False, False,\n",
       "       False, False, False, False, False, False,  True, False,  True,\n",
       "       False,  True,  True, False, False, False, False,  True, False,\n",
       "       False, False, False,  True, False, False, False, False, False,\n",
       "        True, False, False, False,  True, False, False, False, False,\n",
       "       False, False, False, False, False,  True, False, False, False,\n",
       "       False, False, False, False,  True, False,  True, False,  True,\n",
       "       False, False, False, False, False, False, False, False, False,\n",
       "       False, False, False, False,  True,  True, False, False,  True,\n",
       "       False,  True, False, False, False,  True, False, False, False,\n",
       "       False,  True, False, False, False, False,  True,  True,  True,\n",
       "       False, False, False, False, False, False, False, False, False,\n",
       "       False, False, False, False, False, False,  True, False, False,\n",
       "       False,  True,  True, False, False, False, False, False,  True,\n",
       "       False, False, False, False, False, False, False, False, False,\n",
       "       False, False, False, False, False, False, False, False, False,\n",
       "       False, False, False, False, False, False, False, False, False,\n",
       "       False, False, False, False,  True,  True, False, False, False,\n",
       "       False, False, False, False, False, False, False, False, False,\n",
       "       False, False, False, False, False, False, False, False, False,\n",
       "       False, False, False, False, False, False, False, False, False,\n",
       "       False, False, False, False, False, False, False,  True, False,\n",
       "       False, False, False, False, False, False, False, False, False,\n",
       "       False, False,  True,  True, False], dtype=bool)"
      ]
     },
     "execution_count": 143,
     "metadata": {},
     "output_type": "execute_result"
    }
   ],
   "source": [
    "target_rows_list[2] == target_rows_list[3]"
   ]
  },
  {
   "cell_type": "code",
   "execution_count": null,
   "metadata": {
    "collapsed": true
   },
   "outputs": [],
   "source": [
    "print(\"322\")"
   ]
  },
  {
   "cell_type": "markdown",
   "metadata": {
    "collapsed": true
   },
   "source": [
    "# COLLECT GOOD ROWS"
   ]
  },
  {
   "cell_type": "code",
   "execution_count": 5,
   "metadata": {},
   "outputs": [
    {
     "name": "stdout",
     "output_type": "stream",
     "text": [
      "(428, 4382202)\n"
     ]
    }
   ],
   "source": [
    "table = np.load(args.input_table_path).astype(int)\n",
    "print(table.shape)\n",
    "case_control = np.array([0] * 407 + [1] * 21)"
   ]
  },
  {
   "cell_type": "code",
   "execution_count": 6,
   "metadata": {
    "collapsed": true
   },
   "outputs": [],
   "source": [
    "rows_path = \"../1_stage_results/rows/\"\n",
    "rows_files = os.listdir(rows_path)"
   ]
  },
  {
   "cell_type": "code",
   "execution_count": 7,
   "metadata": {
    "collapsed": true
   },
   "outputs": [],
   "source": [
    "all_rows = []\n",
    "for f_name in rows_files:\n",
    "    all_rows.append(np.load(rows_path+f_name))"
   ]
  },
  {
   "cell_type": "code",
   "execution_count": 10,
   "metadata": {},
   "outputs": [
    {
     "data": {
      "text/plain": [
       "500"
      ]
     },
     "execution_count": 10,
     "metadata": {},
     "output_type": "execute_result"
    }
   ],
   "source": [
    "len(all_rows[0])"
   ]
  },
  {
   "cell_type": "code",
   "execution_count": 12,
   "metadata": {
    "collapsed": true
   },
   "outputs": [],
   "source": [
    "rows_to_save = set()\n",
    "for ind in all_rows:\n",
    "    for row in ind:\n",
    "        rows_to_save.add(row)"
   ]
  },
  {
   "cell_type": "code",
   "execution_count": 20,
   "metadata": {},
   "outputs": [
    {
     "name": "stdout",
     "output_type": "stream",
     "text": [
      "(4382202,) 1406\n"
     ]
    }
   ],
   "source": [
    "mask = np.array([False] * table.shape[1])\n",
    "mask[np.array(list(rows_to_save))] = True\n",
    "print(mask.shape, mask.sum())"
   ]
  },
  {
   "cell_type": "code",
   "execution_count": 24,
   "metadata": {},
   "outputs": [],
   "source": [
    "selected_rows = table[:, mask]"
   ]
  },
  {
   "cell_type": "code",
   "execution_count": 26,
   "metadata": {},
   "outputs": [],
   "source": [
    "head = np.arange(mask.shape[0])[mask]"
   ]
  },
  {
   "cell_type": "code",
   "execution_count": 32,
   "metadata": {},
   "outputs": [
    {
     "data": {
      "text/plain": [
       "array([  10288,   10612,   16126, ..., 4359974, 4361694, 4366824])"
      ]
     },
     "execution_count": 32,
     "metadata": {},
     "output_type": "execute_result"
    }
   ],
   "source": [
    "head"
   ]
  },
  {
   "cell_type": "code",
   "execution_count": 34,
   "metadata": {},
   "outputs": [],
   "source": [
    "import pandas as pd"
   ]
  },
  {
   "cell_type": "code",
   "execution_count": 36,
   "metadata": {},
   "outputs": [],
   "source": [
    "result = pd.DataFrame(selected_rows, columns=head)"
   ]
  },
  {
   "cell_type": "code",
   "execution_count": 40,
   "metadata": {},
   "outputs": [
    {
     "data": {
      "text/plain": [
       "True"
      ]
     },
     "execution_count": 40,
     "metadata": {},
     "output_type": "execute_result"
    }
   ],
   "source": [
    "all(result[10612] == table[:, 10612])"
   ]
  },
  {
   "cell_type": "code",
   "execution_count": 43,
   "metadata": {},
   "outputs": [],
   "source": [
    "for c in result.columns:\n",
    "    if not all(result[c] == table[:,c]):\n",
    "        print(c)"
   ]
  },
  {
   "cell_type": "code",
   "execution_count": 45,
   "metadata": {
    "collapsed": true
   },
   "outputs": [],
   "source": [
    "result.to_csv(\"../1_stage_results/result.csv\")"
   ]
  },
  {
   "cell_type": "code",
   "execution_count": 51,
   "metadata": {},
   "outputs": [
    {
     "data": {
      "text/plain": [
       "(array([217]),)"
      ]
     },
     "execution_count": 51,
     "metadata": {},
     "output_type": "execute_result"
    }
   ],
   "source": [
    "np.where(np.array(rows_files) == \"rows_0.npy\")"
   ]
  },
  {
   "cell_type": "code",
   "execution_count": 52,
   "metadata": {},
   "outputs": [
    {
     "data": {
      "text/plain": [
       "array([ True,  True,  True,  True,  True,  True,  True,  True,  True,\n",
       "        True,  True,  True,  True,  True,  True,  True,  True,  True,\n",
       "        True,  True,  True,  True,  True,  True,  True,  True,  True,\n",
       "        True,  True,  True,  True,  True,  True,  True,  True,  True,\n",
       "        True,  True,  True,  True,  True,  True,  True,  True,  True,\n",
       "        True,  True,  True,  True,  True,  True,  True,  True,  True,\n",
       "        True,  True,  True,  True,  True,  True,  True,  True,  True,\n",
       "        True,  True,  True,  True,  True,  True,  True,  True,  True,\n",
       "        True,  True,  True,  True,  True,  True,  True,  True,  True,\n",
       "        True,  True,  True,  True,  True,  True,  True,  True,  True,\n",
       "        True,  True,  True,  True,  True,  True,  True,  True,  True,\n",
       "        True,  True,  True,  True,  True,  True,  True,  True,  True,\n",
       "        True,  True,  True,  True,  True,  True,  True,  True,  True,\n",
       "        True,  True,  True,  True,  True,  True,  True,  True,  True,\n",
       "        True,  True,  True,  True,  True,  True,  True,  True,  True,\n",
       "        True,  True,  True,  True,  True,  True,  True,  True,  True,\n",
       "        True,  True,  True,  True,  True,  True,  True,  True,  True,\n",
       "        True,  True,  True,  True,  True,  True,  True,  True,  True,\n",
       "        True,  True,  True,  True,  True,  True,  True,  True,  True,\n",
       "        True,  True,  True,  True,  True,  True,  True,  True,  True,\n",
       "        True,  True,  True,  True,  True,  True,  True,  True,  True,\n",
       "        True,  True,  True,  True,  True,  True,  True,  True,  True,\n",
       "        True,  True,  True,  True,  True,  True,  True,  True,  True,\n",
       "        True,  True,  True,  True,  True,  True,  True,  True,  True,\n",
       "        True,  True,  True,  True,  True,  True,  True,  True,  True,\n",
       "        True,  True,  True,  True,  True,  True,  True,  True,  True,\n",
       "        True,  True,  True,  True,  True,  True,  True,  True,  True,\n",
       "        True,  True,  True,  True,  True,  True,  True,  True,  True,\n",
       "        True,  True,  True,  True,  True,  True,  True,  True,  True,\n",
       "        True,  True,  True,  True,  True,  True,  True,  True,  True,\n",
       "        True,  True,  True,  True,  True,  True,  True,  True,  True,\n",
       "        True,  True,  True,  True,  True,  True,  True,  True,  True,\n",
       "        True,  True,  True,  True,  True,  True,  True,  True,  True,\n",
       "        True,  True,  True,  True,  True,  True,  True,  True,  True,\n",
       "        True,  True,  True,  True,  True,  True,  True,  True,  True,\n",
       "        True,  True,  True,  True,  True,  True,  True,  True,  True,\n",
       "        True,  True,  True,  True,  True,  True,  True,  True,  True,\n",
       "        True,  True,  True,  True,  True,  True,  True,  True,  True,\n",
       "        True,  True,  True,  True,  True,  True,  True,  True,  True,\n",
       "        True,  True,  True,  True,  True,  True,  True,  True,  True,\n",
       "        True,  True,  True,  True,  True,  True,  True,  True,  True,\n",
       "        True,  True,  True,  True,  True,  True,  True,  True,  True,\n",
       "        True,  True,  True,  True,  True,  True,  True,  True,  True,\n",
       "        True,  True,  True,  True,  True,  True,  True,  True,  True,\n",
       "        True,  True,  True,  True,  True,  True,  True,  True,  True,\n",
       "        True,  True,  True,  True,  True,  True,  True,  True,  True,\n",
       "        True,  True,  True,  True,  True,  True,  True,  True,  True,\n",
       "        True,  True,  True,  True,  True,  True,  True,  True,  True,\n",
       "        True,  True,  True,  True,  True,  True,  True,  True,  True,\n",
       "        True,  True,  True,  True,  True,  True,  True,  True,  True,\n",
       "        True,  True,  True,  True,  True,  True,  True,  True,  True,\n",
       "        True,  True,  True,  True,  True,  True,  True,  True,  True,\n",
       "        True,  True,  True,  True,  True,  True,  True,  True,  True,\n",
       "        True,  True,  True,  True,  True,  True,  True,  True,  True,\n",
       "        True,  True,  True,  True,  True,  True,  True,  True,  True,\n",
       "        True,  True,  True,  True,  True], dtype=bool)"
      ]
     },
     "execution_count": 52,
     "metadata": {},
     "output_type": "execute_result"
    }
   ],
   "source": [
    "np.load(\"../1_stage_results/rows/rows_0.npy\") == all_rows[217]"
   ]
  },
  {
   "cell_type": "code",
   "execution_count": null,
   "metadata": {
    "collapsed": true
   },
   "outputs": [],
   "source": []
  }
 ],
 "metadata": {
  "kernelspec": {
   "display_name": "Python [conda env:py35]",
   "language": "python",
   "name": "conda-env-py35-py"
  },
  "language_info": {
   "codemirror_mode": {
    "name": "ipython",
    "version": 3
   },
   "file_extension": ".py",
   "mimetype": "text/x-python",
   "name": "python",
   "nbconvert_exporter": "python",
   "pygments_lexer": "ipython3",
   "version": "3.5.2"
  }
 },
 "nbformat": 4,
 "nbformat_minor": 2
}
